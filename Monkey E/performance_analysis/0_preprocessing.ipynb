{
 "cells": [
  {
   "cell_type": "code",
   "execution_count": 1,
   "id": "1518c3fb-3068-46a5-9fcb-21660f017526",
   "metadata": {
    "tags": []
   },
   "outputs": [],
   "source": [
    "import pandas as pd\n",
    "import numpy as np"
   ]
  },
  {
   "cell_type": "code",
   "execution_count": 10,
   "id": "096b797a-0f92-445d-91a3-3a4f3c7c4a51",
   "metadata": {
    "tags": []
   },
   "outputs": [],
   "source": [
    "dat_df = pd.read_csv(\"all_data.csv\", sep=',')"
   ]
  },
  {
   "cell_type": "code",
   "execution_count": 11,
   "id": "e04e0271-f54b-4582-9456-f906351ac086",
   "metadata": {
    "tags": []
   },
   "outputs": [],
   "source": [
    "## change naming \n",
    "dat_df['cue_lum_congruency'] = dat_df['cue_lum_congruency'].astype(bool)\n",
    "dat_df['cue_lum_congruency'].replace({True: 'congruent', False: 'incongruent'}, inplace=True)\n",
    "\n",
    "## change to categorical variable\n",
    "#dat_df['soa'] = pd.Categorical(dat_df['soa'])\n",
    "\n",
    "## make sure of a type\n",
    "dat_df['hit'] = dat_df['hit'].astype(bool)\n",
    "dat_df['miss'] = dat_df['miss'].astype(bool)\n",
    "dat_df['got_reward'] = dat_df['got_reward'].astype(bool)\n",
    "\n",
    "## performance from nrec\n",
    "dat_df['performance_from_nrec'] = dat_df.iloc[:, 7:9].idxmax(axis=1).str.replace('performance_', '')\n",
    "dat_df.rename(columns={'hit': 'hit_from_nrec', 'miss': 'miss_from_nrec'}, inplace=True)\n",
    "\n",
    "## performance from IDT algorithm\n",
    "dat_df['performance_from_eye'] = dat_df.apply(lambda x: 'hit' if x['lum_change_id'] == x['response_from_tracking'] else 'miss', axis=1)\n",
    "dat_df['hit_from_eye'] = dat_df['performance_from_eye'].apply(lambda x: 1 if x == 'hit' else 0).astype(bool)\n",
    "dat_df['miss_from_eye'] = dat_df['performance_from_eye'].apply(lambda x: 1 if x == 'miss' else 0).astype(bool)\n",
    "\n",
    "dat_df['was_congruent'] = dat_df['cue_lum_congruency'] == 'congruent'\n",
    "dat_df['was_incongruent'] = dat_df['cue_lum_congruency'] == 'incongruent'\n",
    "\n",
    "dat_df = dat_df.dropna(subset=['response_from_tracking'])\n",
    "\n",
    "dat_df_ = dat_df.copy()"
   ]
  },
  {
   "cell_type": "code",
   "execution_count": 12,
   "id": "a9b60eef-bed5-4c33-ae2d-01e98e96e28a",
   "metadata": {
    "tags": []
   },
   "outputs": [],
   "source": [
    "dat_df = dat_df[dat_df['soa']>0]\n",
    "dat_df = dat_df[dat_df['soa']<0.7]"
   ]
  },
  {
   "cell_type": "code",
   "execution_count": 13,
   "id": "3bbea843-5c7d-40fb-884b-820b9ac232be",
   "metadata": {
    "tags": []
   },
   "outputs": [],
   "source": [
    "main_soas = [0.02, 0.05, 0.1, 0.2, 0.3]\n",
    "\n",
    "def closest_main_soa(x):\n",
    "    if x in main_soas:\n",
    "        return x\n",
    "    return min(main_soas, key=lambda y: abs(x - y))\n",
    "\n",
    "dat_df['soa'] = dat_df['soa'].apply(closest_main_soa)"
   ]
  },
  {
   "cell_type": "code",
   "execution_count": 14,
   "id": "680af79b-9a4a-485a-b5e1-59c790374670",
   "metadata": {
    "tags": []
   },
   "outputs": [],
   "source": [
    "for run_id in dat_df['run'].unique():\n",
    "    for soa_ in dat_df['soa'].unique():\n",
    "        if dat_df[(dat_df['run'] == run_id) & (dat_df['soa'] == soa_)].shape[0] < 20: \n",
    "            dat_df = dat_df[~((dat_df['run'] == run_id) & (dat_df['soa'] == soa_))]\n",
    "\n",
    "dat_df_eo = dat_df[dat_df['condition'] == 'eye_only']\n",
    "dat_df_eh = dat_df[dat_df['condition'] == 'eye_head']\n"
   ]
  },
  {
   "cell_type": "code",
   "execution_count": 15,
   "id": "4f2f9836-ac42-4862-abbd-0e4e0e6a1432",
   "metadata": {
    "tags": []
   },
   "outputs": [],
   "source": [
    "dat_df_eo.to_csv(\"dat_df_eo.csv\")"
   ]
  },
  {
   "cell_type": "code",
   "execution_count": 16,
   "id": "b0e89575-b8b3-4b3d-82c9-371019bc0283",
   "metadata": {
    "tags": []
   },
   "outputs": [],
   "source": [
    "dat_df_eh.to_csv(\"dat_df_eh.csv\")"
   ]
  },
  {
   "cell_type": "code",
   "execution_count": 127,
   "id": "245ba1a2-ca9a-41c1-b704-f690dc1782b1",
   "metadata": {
    "tags": []
   },
   "outputs": [
    {
     "data": {
      "text/html": [
       "<div>\n",
       "<style scoped>\n",
       "    .dataframe tbody tr th:only-of-type {\n",
       "        vertical-align: middle;\n",
       "    }\n",
       "\n",
       "    .dataframe tbody tr th {\n",
       "        vertical-align: top;\n",
       "    }\n",
       "\n",
       "    .dataframe thead th {\n",
       "        text-align: right;\n",
       "    }\n",
       "</style>\n",
       "<table border=\"1\" class=\"dataframe\">\n",
       "  <thead>\n",
       "    <tr style=\"text-align: right;\">\n",
       "      <th></th>\n",
       "      <th>soa</th>\n",
       "      <th>n</th>\n",
       "    </tr>\n",
       "  </thead>\n",
       "  <tbody>\n",
       "    <tr>\n",
       "      <th>0</th>\n",
       "      <td>0.02</td>\n",
       "      <td>2349</td>\n",
       "    </tr>\n",
       "    <tr>\n",
       "      <th>1</th>\n",
       "      <td>0.05</td>\n",
       "      <td>5050</td>\n",
       "    </tr>\n",
       "    <tr>\n",
       "      <th>2</th>\n",
       "      <td>0.10</td>\n",
       "      <td>4828</td>\n",
       "    </tr>\n",
       "    <tr>\n",
       "      <th>3</th>\n",
       "      <td>0.20</td>\n",
       "      <td>1490</td>\n",
       "    </tr>\n",
       "    <tr>\n",
       "      <th>4</th>\n",
       "      <td>0.30</td>\n",
       "      <td>6532</td>\n",
       "    </tr>\n",
       "  </tbody>\n",
       "</table>\n",
       "</div>"
      ],
      "text/plain": [
       "    soa     n\n",
       "0  0.02  2349\n",
       "1  0.05  5050\n",
       "2  0.10  4828\n",
       "3  0.20  1490\n",
       "4  0.30  6532"
      ]
     },
     "execution_count": 127,
     "metadata": {},
     "output_type": "execute_result"
    }
   ],
   "source": [
    "count_dat_df_eh = dat_df_eh.dropna(subset=['saccade_time_to_lum']).groupby('soa').size().reset_index(name='n')\n",
    "count_dat_df_eh[count_dat_df_eh['n'] !=0]"
   ]
  },
  {
   "cell_type": "code",
   "execution_count": 128,
   "id": "a03f223a-eed3-4f05-8cf6-0c36fe9b63ea",
   "metadata": {
    "tags": []
   },
   "outputs": [
    {
     "data": {
      "text/html": [
       "<div>\n",
       "<style scoped>\n",
       "    .dataframe tbody tr th:only-of-type {\n",
       "        vertical-align: middle;\n",
       "    }\n",
       "\n",
       "    .dataframe tbody tr th {\n",
       "        vertical-align: top;\n",
       "    }\n",
       "\n",
       "    .dataframe thead th {\n",
       "        text-align: right;\n",
       "    }\n",
       "</style>\n",
       "<table border=\"1\" class=\"dataframe\">\n",
       "  <thead>\n",
       "    <tr style=\"text-align: right;\">\n",
       "      <th></th>\n",
       "      <th>soa</th>\n",
       "      <th>n</th>\n",
       "    </tr>\n",
       "  </thead>\n",
       "  <tbody>\n",
       "    <tr>\n",
       "      <th>0</th>\n",
       "      <td>0.02</td>\n",
       "      <td>8561</td>\n",
       "    </tr>\n",
       "    <tr>\n",
       "      <th>1</th>\n",
       "      <td>0.05</td>\n",
       "      <td>1225</td>\n",
       "    </tr>\n",
       "    <tr>\n",
       "      <th>2</th>\n",
       "      <td>0.10</td>\n",
       "      <td>9303</td>\n",
       "    </tr>\n",
       "    <tr>\n",
       "      <th>3</th>\n",
       "      <td>0.20</td>\n",
       "      <td>9251</td>\n",
       "    </tr>\n",
       "    <tr>\n",
       "      <th>4</th>\n",
       "      <td>0.30</td>\n",
       "      <td>16990</td>\n",
       "    </tr>\n",
       "  </tbody>\n",
       "</table>\n",
       "</div>"
      ],
      "text/plain": [
       "    soa      n\n",
       "0  0.02   8561\n",
       "1  0.05   1225\n",
       "2  0.10   9303\n",
       "3  0.20   9251\n",
       "4  0.30  16990"
      ]
     },
     "execution_count": 128,
     "metadata": {},
     "output_type": "execute_result"
    }
   ],
   "source": [
    "count_dat_df_eo = dat_df_eo.dropna(subset=['saccade_time_to_lum']).loc[dat_df_eo['cue_amplitude'] == 'normal'].groupby('soa').size().reset_index(name='n')\n",
    "count_dat_df_eo[count_dat_df_eo['n'] !=0]"
   ]
  },
  {
   "cell_type": "code",
   "execution_count": 129,
   "id": "dc1f8697-e0f9-4bb9-af42-618854a0c844",
   "metadata": {
    "tags": []
   },
   "outputs": [
    {
     "data": {
      "text/html": [
       "<div>\n",
       "<style scoped>\n",
       "    .dataframe tbody tr th:only-of-type {\n",
       "        vertical-align: middle;\n",
       "    }\n",
       "\n",
       "    .dataframe tbody tr th {\n",
       "        vertical-align: top;\n",
       "    }\n",
       "\n",
       "    .dataframe thead th {\n",
       "        text-align: right;\n",
       "    }\n",
       "</style>\n",
       "<table border=\"1\" class=\"dataframe\">\n",
       "  <thead>\n",
       "    <tr style=\"text-align: right;\">\n",
       "      <th></th>\n",
       "      <th>soa</th>\n",
       "      <th>n</th>\n",
       "    </tr>\n",
       "  </thead>\n",
       "  <tbody>\n",
       "    <tr>\n",
       "      <th>0</th>\n",
       "      <td>0.05</td>\n",
       "      <td>1889</td>\n",
       "    </tr>\n",
       "    <tr>\n",
       "      <th>1</th>\n",
       "      <td>0.10</td>\n",
       "      <td>1931</td>\n",
       "    </tr>\n",
       "    <tr>\n",
       "      <th>2</th>\n",
       "      <td>0.30</td>\n",
       "      <td>2024</td>\n",
       "    </tr>\n",
       "  </tbody>\n",
       "</table>\n",
       "</div>"
      ],
      "text/plain": [
       "    soa     n\n",
       "0  0.05  1889\n",
       "1  0.10  1931\n",
       "2  0.30  2024"
      ]
     },
     "execution_count": 129,
     "metadata": {},
     "output_type": "execute_result"
    }
   ],
   "source": [
    "count_dat_df_eo_large = dat_df_eo.dropna(subset=['saccade_time_to_lum']).loc[dat_df_eo['cue_amplitude'] == 'large'].groupby('soa').size().reset_index(name='n')\n",
    "count_dat_df_eo_large[count_dat_df_eo_large['n'] !=0]"
   ]
  }
 ],
 "metadata": {
  "kernelspec": {
   "display_name": "Python 3 (ipykernel)",
   "language": "python",
   "name": "python3"
  },
  "language_info": {
   "codemirror_mode": {
    "name": "ipython",
    "version": 3
   },
   "file_extension": ".py",
   "mimetype": "text/x-python",
   "name": "python",
   "nbconvert_exporter": "python",
   "pygments_lexer": "ipython3",
   "version": "3.11.4"
  }
 },
 "nbformat": 4,
 "nbformat_minor": 5
}
