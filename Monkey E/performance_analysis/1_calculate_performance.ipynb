{
 "cells": [
  {
   "cell_type": "code",
   "execution_count": 1,
   "id": "5f0ed27a-c8b5-4259-8ee7-81191ff0fe64",
   "metadata": {
    "tags": []
   },
   "outputs": [],
   "source": [
    "import pandas as pd\n",
    "import numpy as np\n",
    "import seaborn as sns\n",
    "import matplotlib.pyplot as plt"
   ]
  },
  {
   "cell_type": "code",
   "execution_count": 2,
   "id": "aa0bcb4d-fc97-4cc0-8d89-d49568a2be23",
   "metadata": {
    "tags": []
   },
   "outputs": [],
   "source": [
    "def convert_pvalue_to_asterisks(pvalue):\n",
    "    if pvalue <= 0.0001:\n",
    "        return \"****\"\n",
    "    elif pvalue <= 0.001:\n",
    "        return \"***\"\n",
    "    elif pvalue <= 0.01:\n",
    "        return \"**\"\n",
    "    elif pvalue <= 0.05:\n",
    "        return \"*\"\n",
    "    return \"ns\""
   ]
  },
  {
   "cell_type": "code",
   "execution_count": 3,
   "id": "5021bb99-2d8c-4dea-b6c8-099ecf9057ca",
   "metadata": {
    "tags": []
   },
   "outputs": [],
   "source": [
    "dat_df_eo = pd.read_csv(\"dat_df_eo.csv\", sep=',')\n",
    "dat_df_eh = pd.read_csv(\"dat_df_eh.csv\", sep=',')"
   ]
  },
  {
   "cell_type": "code",
   "execution_count": 4,
   "id": "222ff4ea-92fe-423a-ac67-3ddef90a8950",
   "metadata": {
    "tags": []
   },
   "outputs": [],
   "source": [
    "dat_df_eo['soa'] = dat_df_eo['soa']*1000\n",
    "dat_df_eh['soa'] = dat_df_eh['soa']*1000"
   ]
  },
  {
   "cell_type": "code",
   "execution_count": 5,
   "id": "9b5d94f1-411f-4aa0-b299-4e41f4f46501",
   "metadata": {
    "tags": []
   },
   "outputs": [],
   "source": [
    "dat_df_eo['soa'] = dat_df_eo['soa'].astype(int)\n",
    "dat_df_eh['soa'] = dat_df_eh['soa'].astype(int)"
   ]
  },
  {
   "cell_type": "code",
   "execution_count": 6,
   "id": "427dbb51-992b-493a-9f1a-345b0052ad29",
   "metadata": {
    "tags": []
   },
   "outputs": [],
   "source": [
    "## Don't consider high cue amplitude\n",
    "\n",
    "dat_df_eo = dat_df_eo[(dat_df_eo['saccade_time_to_lum'] > 70) & (dat_df_eo['cue_amplitude'] == 'normal')]"
   ]
  },
  {
   "cell_type": "markdown",
   "id": "458ac1e9",
   "metadata": {},
   "source": [
    "### Fix SOA"
   ]
  },
  {
   "cell_type": "code",
   "execution_count": 7,
   "id": "ba3bc016",
   "metadata": {
    "tags": []
   },
   "outputs": [
    {
     "data": {
      "text/plain": [
       "array([100,  20,  50, 200, 300])"
      ]
     },
     "execution_count": 7,
     "metadata": {},
     "output_type": "execute_result"
    }
   ],
   "source": [
    "dat_df_eo['soa'].unique()"
   ]
  },
  {
   "cell_type": "code",
   "execution_count": 8,
   "id": "5f31aed8",
   "metadata": {
    "tags": []
   },
   "outputs": [],
   "source": [
    "main_soas = [20, 50, 100, 200, 300]\n",
    "\n",
    "dat_df_eh = dat_df_eh[dat_df_eh['soa'].isin(main_soas)]"
   ]
  },
  {
   "cell_type": "code",
   "execution_count": 9,
   "id": "2db66c77-622a-4325-94af-4424fff82f16",
   "metadata": {
    "tags": []
   },
   "outputs": [
    {
     "data": {
      "text/plain": [
       "array([100,  50, 200,  20, 300])"
      ]
     },
     "execution_count": 9,
     "metadata": {},
     "output_type": "execute_result"
    }
   ],
   "source": [
    "dat_df_eh['soa'].unique()"
   ]
  },
  {
   "cell_type": "markdown",
   "id": "f3454333-3583-4309-999d-ba87ab76cb0b",
   "metadata": {},
   "source": [
    "## Eye only grouped_by_soa_congr_df"
   ]
  },
  {
   "cell_type": "code",
   "execution_count": 44,
   "id": "18e5914f-0c3c-49ac-bb2a-59249ab61017",
   "metadata": {
    "tags": []
   },
   "outputs": [],
   "source": [
    "## Group by SOA\n",
    "\n",
    "grouped_by_soa_congr_df = dat_df_eo.groupby(['soa', 'cue_lum_congruency']).agg({\n",
    "    'hit_from_eye': 'sum',\n",
    "    'miss_from_eye': 'sum'\n",
    "}).reset_index()\n",
    "\n",
    "# Calculate total, hit rate, and miss rate\n",
    "grouped_by_soa_congr_df['total'] = grouped_by_soa_congr_df['hit_from_eye'] + grouped_by_soa_congr_df['miss_from_eye']\n",
    "grouped_by_soa_congr_df['hit_rate'] = grouped_by_soa_congr_df['hit_from_eye'] / grouped_by_soa_congr_df['total']\n",
    "grouped_by_soa_congr_df['miss_rate'] = grouped_by_soa_congr_df['miss_from_eye'] / grouped_by_soa_congr_df['total']\n",
    "\n",
    "# Remove SOAs with less than 50 trials\n",
    "soa_filter = grouped_by_soa_congr_df.loc[grouped_by_soa_congr_df['total'] < 50, 'soa']\n",
    "grouped_by_soa_congr_df = grouped_by_soa_congr_df[~grouped_by_soa_congr_df['soa'].isin(soa_filter)]"
   ]
  },
  {
   "cell_type": "code",
   "execution_count": 45,
   "id": "917bb0cf-71e8-4156-91d3-c51651fab3e9",
   "metadata": {
    "tags": []
   },
   "outputs": [
    {
     "data": {
      "text/html": [
       "<div>\n",
       "<style scoped>\n",
       "    .dataframe tbody tr th:only-of-type {\n",
       "        vertical-align: middle;\n",
       "    }\n",
       "\n",
       "    .dataframe tbody tr th {\n",
       "        vertical-align: top;\n",
       "    }\n",
       "\n",
       "    .dataframe thead th {\n",
       "        text-align: right;\n",
       "    }\n",
       "</style>\n",
       "<table border=\"1\" class=\"dataframe\">\n",
       "  <thead>\n",
       "    <tr style=\"text-align: right;\">\n",
       "      <th></th>\n",
       "      <th>soa</th>\n",
       "      <th>cue_lum_congruency</th>\n",
       "      <th>hit_from_eye</th>\n",
       "      <th>miss_from_eye</th>\n",
       "      <th>total</th>\n",
       "      <th>hit_rate</th>\n",
       "      <th>miss_rate</th>\n",
       "    </tr>\n",
       "  </thead>\n",
       "  <tbody>\n",
       "    <tr>\n",
       "      <th>0</th>\n",
       "      <td>20</td>\n",
       "      <td>congruent</td>\n",
       "      <td>3598</td>\n",
       "      <td>611</td>\n",
       "      <td>4209</td>\n",
       "      <td>0.854835</td>\n",
       "      <td>0.145165</td>\n",
       "    </tr>\n",
       "    <tr>\n",
       "      <th>1</th>\n",
       "      <td>20</td>\n",
       "      <td>incongruent</td>\n",
       "      <td>3579</td>\n",
       "      <td>627</td>\n",
       "      <td>4206</td>\n",
       "      <td>0.850927</td>\n",
       "      <td>0.149073</td>\n",
       "    </tr>\n",
       "    <tr>\n",
       "      <th>2</th>\n",
       "      <td>50</td>\n",
       "      <td>congruent</td>\n",
       "      <td>520</td>\n",
       "      <td>92</td>\n",
       "      <td>612</td>\n",
       "      <td>0.849673</td>\n",
       "      <td>0.150327</td>\n",
       "    </tr>\n",
       "    <tr>\n",
       "      <th>3</th>\n",
       "      <td>50</td>\n",
       "      <td>incongruent</td>\n",
       "      <td>480</td>\n",
       "      <td>118</td>\n",
       "      <td>598</td>\n",
       "      <td>0.802676</td>\n",
       "      <td>0.197324</td>\n",
       "    </tr>\n",
       "    <tr>\n",
       "      <th>4</th>\n",
       "      <td>100</td>\n",
       "      <td>congruent</td>\n",
       "      <td>3552</td>\n",
       "      <td>927</td>\n",
       "      <td>4479</td>\n",
       "      <td>0.793034</td>\n",
       "      <td>0.206966</td>\n",
       "    </tr>\n",
       "    <tr>\n",
       "      <th>5</th>\n",
       "      <td>100</td>\n",
       "      <td>incongruent</td>\n",
       "      <td>3514</td>\n",
       "      <td>1001</td>\n",
       "      <td>4515</td>\n",
       "      <td>0.778295</td>\n",
       "      <td>0.221705</td>\n",
       "    </tr>\n",
       "    <tr>\n",
       "      <th>6</th>\n",
       "      <td>200</td>\n",
       "      <td>congruent</td>\n",
       "      <td>3038</td>\n",
       "      <td>1387</td>\n",
       "      <td>4425</td>\n",
       "      <td>0.686554</td>\n",
       "      <td>0.313446</td>\n",
       "    </tr>\n",
       "    <tr>\n",
       "      <th>7</th>\n",
       "      <td>200</td>\n",
       "      <td>incongruent</td>\n",
       "      <td>2882</td>\n",
       "      <td>1416</td>\n",
       "      <td>4298</td>\n",
       "      <td>0.670544</td>\n",
       "      <td>0.329456</td>\n",
       "    </tr>\n",
       "    <tr>\n",
       "      <th>8</th>\n",
       "      <td>300</td>\n",
       "      <td>congruent</td>\n",
       "      <td>4310</td>\n",
       "      <td>2010</td>\n",
       "      <td>6320</td>\n",
       "      <td>0.681962</td>\n",
       "      <td>0.318038</td>\n",
       "    </tr>\n",
       "    <tr>\n",
       "      <th>9</th>\n",
       "      <td>300</td>\n",
       "      <td>incongruent</td>\n",
       "      <td>4426</td>\n",
       "      <td>1999</td>\n",
       "      <td>6425</td>\n",
       "      <td>0.688872</td>\n",
       "      <td>0.311128</td>\n",
       "    </tr>\n",
       "  </tbody>\n",
       "</table>\n",
       "</div>"
      ],
      "text/plain": [
       "   soa cue_lum_congruency  hit_from_eye  miss_from_eye  total  hit_rate  \\\n",
       "0   20          congruent          3598            611   4209  0.854835   \n",
       "1   20        incongruent          3579            627   4206  0.850927   \n",
       "2   50          congruent           520             92    612  0.849673   \n",
       "3   50        incongruent           480            118    598  0.802676   \n",
       "4  100          congruent          3552            927   4479  0.793034   \n",
       "5  100        incongruent          3514           1001   4515  0.778295   \n",
       "6  200          congruent          3038           1387   4425  0.686554   \n",
       "7  200        incongruent          2882           1416   4298  0.670544   \n",
       "8  300          congruent          4310           2010   6320  0.681962   \n",
       "9  300        incongruent          4426           1999   6425  0.688872   \n",
       "\n",
       "   miss_rate  \n",
       "0   0.145165  \n",
       "1   0.149073  \n",
       "2   0.150327  \n",
       "3   0.197324  \n",
       "4   0.206966  \n",
       "5   0.221705  \n",
       "6   0.313446  \n",
       "7   0.329456  \n",
       "8   0.318038  \n",
       "9   0.311128  "
      ]
     },
     "execution_count": 45,
     "metadata": {},
     "output_type": "execute_result"
    }
   ],
   "source": [
    "grouped_by_soa_congr_df"
   ]
  },
  {
   "cell_type": "code",
   "execution_count": 46,
   "id": "83be0d5c-0794-4793-8045-56966793a0b7",
   "metadata": {
    "tags": []
   },
   "outputs": [],
   "source": [
    "session_values = np.unique(dat_df_eo['filename'])\n",
    "soa_values = np.unique(dat_df_eo['soa'])\n",
    "final_df = pd.DataFrame({'soa': [], 'perf_congr': [], 'perf_incongr': [], 'RT_congr': [], 'RT_incongr':[], 'n_congr': [], 'n_incongr':[]})\n",
    "\n",
    "for day in session_values:\n",
    "    session = dat_df_eo[dat_df_eo['filename']==day]\n",
    "    \n",
    "    #filename_lst = []\n",
    "    #soas_lst = []\n",
    "    #congr_perf_lst = []\n",
    "    #incongr_perf_lst = []\n",
    "    #congr_n = []\n",
    "    #incongr_n = []\n",
    "    #congr_RT_lst = []\n",
    "    #incongr_RT_lst = []\n",
    "    for i in soa_values:\n",
    "\n",
    "        filename_lst = []\n",
    "        soas_lst = []\n",
    "        congr_perf_lst = []\n",
    "        incongr_perf_lst = []\n",
    "        congr_n = []\n",
    "        incongr_n = []\n",
    "        congr_RT_lst = []\n",
    "        incongr_RT_lst = []\n",
    "\n",
    "        subset = session[session['soa'] == i]\n",
    "\n",
    "        ## CONGRUENT\n",
    "        corr_congr = subset[(subset['hit_from_eye'] == True) & (subset['cue_lum_congruency'] == \"congruent\")]\n",
    "        incorr_congr = subset[(subset['hit_from_eye'] == False) & (subset['cue_lum_congruency'] == \"congruent\")]\n",
    "        congr_n_trials = len(corr_congr) + len(incorr_congr)\n",
    "\n",
    "        ## INCONGRUENT\n",
    "        corr_incongr = subset[(subset['hit_from_eye'] == True) & (subset['cue_lum_congruency'] == \"incongruent\")]\n",
    "        incorr_incongr = subset[(subset['hit_from_eye'] == False) & (subset['cue_lum_congruency'] == \"incongruent\")]\n",
    "        incongr_n_trials = len(corr_incongr) + len(incorr_incongr)\n",
    "\n",
    "        if congr_n_trials >= 1 and incongr_n_trials >= 1:\n",
    "            soas_lst.append(i)\n",
    "            congr_perf = len(corr_congr) / congr_n_trials\n",
    "            #print(congr_n_trials)\n",
    "            congr_n.append(congr_n_trials)\n",
    "            congr_perf_lst.append(congr_perf)\n",
    "            #print('Performance in congruent:', congr_perf, 'soa', i)\n",
    "            congr_RT =  np.mean(corr_congr['saccade_time_to_lum'])\n",
    "            congr_RT_lst.append(congr_RT)\n",
    "            incongr_perf = len(corr_incongr) / incongr_n_trials\n",
    "            incongr_n.append(incongr_n_trials)\n",
    "            incongr_perf_lst.append(incongr_perf)\n",
    "            #print('Performance in incongruent:', incongr_perf, 'soa', i)\n",
    "            incongr_RT = np.mean(corr_incongr['saccade_time_to_lum'])\n",
    "            incongr_RT_lst.append(incongr_RT)\n",
    "            \n",
    "        temp_df = pd.DataFrame({'soa': soas_lst, 'perf_congr': congr_perf_lst, 'perf_incongr': incongr_perf_lst, \n",
    "                'RT_congr': congr_RT_lst, 'RT_incongr': incongr_RT_lst, 'n_congr': congr_n, 'n_incongr':incongr_n})\n",
    "        final_df = pd.concat([final_df,temp_df])"
   ]
  },
  {
   "cell_type": "code",
   "execution_count": 47,
   "id": "e42c7b7c-f2fc-4554-9b02-7fb204b1369d",
   "metadata": {
    "tags": []
   },
   "outputs": [
    {
     "data": {
      "text/html": [
       "<div>\n",
       "<style scoped>\n",
       "    .dataframe tbody tr th:only-of-type {\n",
       "        vertical-align: middle;\n",
       "    }\n",
       "\n",
       "    .dataframe tbody tr th {\n",
       "        vertical-align: top;\n",
       "    }\n",
       "\n",
       "    .dataframe thead th {\n",
       "        text-align: right;\n",
       "    }\n",
       "</style>\n",
       "<table border=\"1\" class=\"dataframe\">\n",
       "  <thead>\n",
       "    <tr style=\"text-align: right;\">\n",
       "      <th></th>\n",
       "      <th>soa</th>\n",
       "      <th>perf_congr</th>\n",
       "      <th>perf_incongr</th>\n",
       "      <th>RT_congr</th>\n",
       "      <th>RT_incongr</th>\n",
       "      <th>n_congr</th>\n",
       "      <th>n_incongr</th>\n",
       "    </tr>\n",
       "  </thead>\n",
       "  <tbody>\n",
       "    <tr>\n",
       "      <th>0</th>\n",
       "      <td>20.0</td>\n",
       "      <td>0.875000</td>\n",
       "      <td>0.769231</td>\n",
       "      <td>435.547619</td>\n",
       "      <td>504.000000</td>\n",
       "      <td>24.0</td>\n",
       "      <td>13.0</td>\n",
       "    </tr>\n",
       "    <tr>\n",
       "      <th>0</th>\n",
       "      <td>50.0</td>\n",
       "      <td>0.842105</td>\n",
       "      <td>0.739130</td>\n",
       "      <td>466.437500</td>\n",
       "      <td>457.352941</td>\n",
       "      <td>19.0</td>\n",
       "      <td>23.0</td>\n",
       "    </tr>\n",
       "    <tr>\n",
       "      <th>0</th>\n",
       "      <td>100.0</td>\n",
       "      <td>0.809524</td>\n",
       "      <td>0.892857</td>\n",
       "      <td>372.852941</td>\n",
       "      <td>409.780000</td>\n",
       "      <td>21.0</td>\n",
       "      <td>28.0</td>\n",
       "    </tr>\n",
       "    <tr>\n",
       "      <th>0</th>\n",
       "      <td>20.0</td>\n",
       "      <td>0.909091</td>\n",
       "      <td>0.842105</td>\n",
       "      <td>528.650000</td>\n",
       "      <td>482.937500</td>\n",
       "      <td>11.0</td>\n",
       "      <td>19.0</td>\n",
       "    </tr>\n",
       "    <tr>\n",
       "      <th>0</th>\n",
       "      <td>50.0</td>\n",
       "      <td>0.928571</td>\n",
       "      <td>0.857143</td>\n",
       "      <td>439.192308</td>\n",
       "      <td>390.791667</td>\n",
       "      <td>14.0</td>\n",
       "      <td>14.0</td>\n",
       "    </tr>\n",
       "    <tr>\n",
       "      <th>...</th>\n",
       "      <td>...</td>\n",
       "      <td>...</td>\n",
       "      <td>...</td>\n",
       "      <td>...</td>\n",
       "      <td>...</td>\n",
       "      <td>...</td>\n",
       "      <td>...</td>\n",
       "    </tr>\n",
       "    <tr>\n",
       "      <th>0</th>\n",
       "      <td>300.0</td>\n",
       "      <td>0.764706</td>\n",
       "      <td>0.756757</td>\n",
       "      <td>459.038462</td>\n",
       "      <td>409.053571</td>\n",
       "      <td>34.0</td>\n",
       "      <td>37.0</td>\n",
       "    </tr>\n",
       "    <tr>\n",
       "      <th>0</th>\n",
       "      <td>300.0</td>\n",
       "      <td>0.763889</td>\n",
       "      <td>0.822581</td>\n",
       "      <td>423.890909</td>\n",
       "      <td>393.166667</td>\n",
       "      <td>72.0</td>\n",
       "      <td>62.0</td>\n",
       "    </tr>\n",
       "    <tr>\n",
       "      <th>0</th>\n",
       "      <td>300.0</td>\n",
       "      <td>0.678571</td>\n",
       "      <td>0.740741</td>\n",
       "      <td>446.736842</td>\n",
       "      <td>447.900000</td>\n",
       "      <td>28.0</td>\n",
       "      <td>27.0</td>\n",
       "    </tr>\n",
       "    <tr>\n",
       "      <th>0</th>\n",
       "      <td>300.0</td>\n",
       "      <td>0.616667</td>\n",
       "      <td>0.771429</td>\n",
       "      <td>416.081081</td>\n",
       "      <td>446.833333</td>\n",
       "      <td>60.0</td>\n",
       "      <td>70.0</td>\n",
       "    </tr>\n",
       "    <tr>\n",
       "      <th>0</th>\n",
       "      <td>300.0</td>\n",
       "      <td>0.562500</td>\n",
       "      <td>0.642857</td>\n",
       "      <td>651.222222</td>\n",
       "      <td>437.027778</td>\n",
       "      <td>16.0</td>\n",
       "      <td>28.0</td>\n",
       "    </tr>\n",
       "  </tbody>\n",
       "</table>\n",
       "<p>486 rows × 7 columns</p>\n",
       "</div>"
      ],
      "text/plain": [
       "      soa  perf_congr  perf_incongr    RT_congr  RT_incongr  n_congr  \\\n",
       "0    20.0    0.875000      0.769231  435.547619  504.000000     24.0   \n",
       "0    50.0    0.842105      0.739130  466.437500  457.352941     19.0   \n",
       "0   100.0    0.809524      0.892857  372.852941  409.780000     21.0   \n",
       "0    20.0    0.909091      0.842105  528.650000  482.937500     11.0   \n",
       "0    50.0    0.928571      0.857143  439.192308  390.791667     14.0   \n",
       "..    ...         ...           ...         ...         ...      ...   \n",
       "0   300.0    0.764706      0.756757  459.038462  409.053571     34.0   \n",
       "0   300.0    0.763889      0.822581  423.890909  393.166667     72.0   \n",
       "0   300.0    0.678571      0.740741  446.736842  447.900000     28.0   \n",
       "0   300.0    0.616667      0.771429  416.081081  446.833333     60.0   \n",
       "0   300.0    0.562500      0.642857  651.222222  437.027778     16.0   \n",
       "\n",
       "    n_incongr  \n",
       "0        13.0  \n",
       "0        23.0  \n",
       "0        28.0  \n",
       "0        19.0  \n",
       "0        14.0  \n",
       "..        ...  \n",
       "0        37.0  \n",
       "0        62.0  \n",
       "0        27.0  \n",
       "0        70.0  \n",
       "0        28.0  \n",
       "\n",
       "[486 rows x 7 columns]"
      ]
     },
     "execution_count": 47,
     "metadata": {},
     "output_type": "execute_result"
    }
   ],
   "source": [
    "final_df"
   ]
  },
  {
   "cell_type": "code",
   "execution_count": 48,
   "id": "123a4165-2172-44e2-abf2-b64cfd8e03bf",
   "metadata": {
    "tags": []
   },
   "outputs": [
    {
     "data": {
      "text/plain": [
       "soa\n",
       "20.0     4209.0\n",
       "50.0      612.0\n",
       "100.0    4447.0\n",
       "200.0    4404.0\n",
       "300.0    6320.0\n",
       "Name: n_congr, dtype: float64"
      ]
     },
     "execution_count": 48,
     "metadata": {},
     "output_type": "execute_result"
    }
   ],
   "source": [
    "final_df.groupby(['soa'])['n_congr'].sum()"
   ]
  },
  {
   "cell_type": "code",
   "execution_count": 49,
   "id": "063d6e2b",
   "metadata": {
    "tags": []
   },
   "outputs": [
    {
     "data": {
      "text/plain": [
       "soa\n",
       "20.0     4206.0\n",
       "50.0      598.0\n",
       "100.0    4515.0\n",
       "200.0    4297.0\n",
       "300.0    6425.0\n",
       "Name: n_incongr, dtype: float64"
      ]
     },
     "execution_count": 49,
     "metadata": {},
     "output_type": "execute_result"
    }
   ],
   "source": [
    "final_df.groupby(['soa'])['n_incongr'].sum()"
   ]
  },
  {
   "cell_type": "code",
   "execution_count": 51,
   "id": "3c452c3f-4f24-4905-a021-cd2e2ab20987",
   "metadata": {
    "tags": []
   },
   "outputs": [
    {
     "data": {
      "text/plain": [
       "40033.0"
      ]
     },
     "execution_count": 51,
     "metadata": {},
     "output_type": "execute_result"
    }
   ],
   "source": [
    "final_df['n_congr'].sum() + final_df['n_incongr'].sum()"
   ]
  },
  {
   "cell_type": "code",
   "execution_count": 50,
   "id": "8c2e5797-6f99-4629-92ce-0b768b0deba9",
   "metadata": {
    "tags": []
   },
   "outputs": [
    {
     "name": "stdout",
     "output_type": "stream",
     "text": [
      "0.0284158204729791\n"
     ]
    },
    {
     "data": {
      "text/plain": [
       "'*'"
      ]
     },
     "execution_count": 50,
     "metadata": {},
     "output_type": "execute_result"
    }
   ],
   "source": [
    "stat, pvalue = wilcoxon(final_df['perf_congr'], final_df['perf_incongr'], alternative='greater')\n",
    "print(pvalue)\n",
    "convert_pvalue_to_asterisks(pvalue)"
   ]
  },
  {
   "cell_type": "code",
   "execution_count": 25,
   "id": "71bef0e3-7b43-458d-aeba-5b4e56a0f527",
   "metadata": {
    "tags": []
   },
   "outputs": [
    {
     "name": "stdout",
     "output_type": "stream",
     "text": [
      "20.0 0.18291123927035396 ns\n",
      "50.0 0.006575182117142334 **\n",
      "100.0 0.1746703755642115 ns\n",
      "200.0 0.01225396006169027 *\n",
      "300.0 0.8592445436830811 ns\n"
     ]
    }
   ],
   "source": [
    "from scipy.stats import wilcoxon\n",
    "\n",
    "pvalues = []\n",
    "x_values = np.unique(final_df['soa'])\n",
    "for x in x_values:\n",
    "    stat, pvalue = wilcoxon(final_df[final_df['soa'] == x]['perf_congr'], final_df[final_df['soa'] == x]['perf_incongr'], alternative='greater')\n",
    "    print(x, pvalue, convert_pvalue_to_asterisks(pvalue))\n",
    "    pvalues.append(convert_pvalue_to_asterisks(pvalue))"
   ]
  },
  {
   "cell_type": "code",
   "execution_count": 23,
   "id": "344def6f-83b5-45a4-9293-d76c486866df",
   "metadata": {
    "tags": []
   },
   "outputs": [
    {
     "data": {
      "text/plain": [
       "['ns', '**', 'ns', '*', 'ns']"
      ]
     },
     "execution_count": 23,
     "metadata": {},
     "output_type": "execute_result"
    }
   ],
   "source": [
    "pvalues"
   ]
  },
  {
   "cell_type": "code",
   "execution_count": 106,
   "id": "8ba32ea1-33bf-4790-bb55-df732f67fd37",
   "metadata": {
    "tags": []
   },
   "outputs": [],
   "source": [
    "final_df = final_df.reset_index(drop=True)"
   ]
  },
  {
   "cell_type": "code",
   "execution_count": 108,
   "id": "5b5f2b38-e16e-4beb-8d8a-d3f78198beee",
   "metadata": {
    "tags": []
   },
   "outputs": [],
   "source": [
    "final_df['soa'] = final_df['soa'].astype(int)"
   ]
  },
  {
   "cell_type": "code",
   "execution_count": 109,
   "id": "2b2b9d4d-5042-4b21-9549-027ff7ad9388",
   "metadata": {
    "tags": []
   },
   "outputs": [],
   "source": [
    "soa = []\n",
    "perf = []\n",
    "cat = []\n",
    "\n",
    "for i in range(len(final_df)):\n",
    "    soa.append(final_df['soa'][i])\n",
    "    perf.append(final_df['perf_congr'][i]*100)\n",
    "    cat.append('congruent')\n",
    "    soa.append(final_df['soa'][i])\n",
    "    perf.append(final_df['perf_incongr'][i]*100)\n",
    "    cat.append('incongruent')"
   ]
  },
  {
   "cell_type": "code",
   "execution_count": 110,
   "id": "b4884acf-ba7d-41cc-a686-c1ba6e82da5f",
   "metadata": {
    "tags": []
   },
   "outputs": [],
   "source": [
    "for_violin_perf = pd.DataFrame({'Stimulus Onset Asynchrony (ms)': soa, 'Performance (%)': perf, 'Condition':cat})\n",
    "for_violin_perf.to_csv('eyeonly_performance.csv')"
   ]
  },
  {
   "cell_type": "code",
   "execution_count": 21,
   "id": "d85dc237-35f6-49a4-8424-7f30a3545c88",
   "metadata": {
    "tags": []
   },
   "outputs": [
    {
     "data": {
      "text/plain": [
       "<matplotlib.legend.Legend at 0x1a6aaabd650>"
      ]
     },
     "execution_count": 21,
     "metadata": {},
     "output_type": "execute_result"
    },
    {
     "data": {
      "image/png": "[encoded data removed]",
      "text/plain": [
       "<Figure size 640x480 with 1 Axes>"
      ]
     },
     "metadata": {},
     "output_type": "display_data"
    }
   ],
   "source": [
    "sns.set_theme(style='darkgrid')\n",
    "sns.boxplot(data=for_violin_perf, x=\"Stimulus Onset Asynchrony (ms)\", y=\"Performance (%)\", notch=True, flierprops={\"marker\": \"x\"}, hue=\"Condition\", palette='Set2', width=0.5).set(title='Eye Only Condition')\n",
    "plt.ylim(10, 110)\n",
    "plt.legend(bbox_to_anchor=(1.05, 1), loc='upper left', borderaxespad=0)"
   ]
  },
  {
   "cell_type": "markdown",
   "id": "3e4c81d7-2559-42f9-b6ed-61be48c1c273",
   "metadata": {
    "tags": []
   },
   "source": [
    "### Eye&Head"
   ]
  },
  {
   "cell_type": "code",
   "execution_count": 52,
   "id": "6337947b",
   "metadata": {
    "tags": []
   },
   "outputs": [],
   "source": [
    "## Group by SOA\n",
    "\n",
    "grouped_by_soa_congr_df = dat_df_eh.groupby(['soa', 'cue_lum_congruency']).agg({\n",
    "    'hit_from_eye': 'sum',\n",
    "    'miss_from_eye': 'sum'\n",
    "}).reset_index()\n",
    "\n",
    "# Calculate total, hit rate, and miss rate\n",
    "grouped_by_soa_congr_df['total'] = grouped_by_soa_congr_df['hit_from_eye'] + grouped_by_soa_congr_df['miss_from_eye']\n",
    "grouped_by_soa_congr_df['hit_rate'] = grouped_by_soa_congr_df['hit_from_eye'] / grouped_by_soa_congr_df['total']\n",
    "grouped_by_soa_congr_df['miss_rate'] = grouped_by_soa_congr_df['miss_from_eye'] / grouped_by_soa_congr_df['total']\n",
    "\n",
    "# Remove SOAs with less than 50 trials\n",
    "soa_filter = grouped_by_soa_congr_df.loc[grouped_by_soa_congr_df['total'] < 50, 'soa']\n",
    "grouped_by_soa_congr_df = grouped_by_soa_congr_df[~grouped_by_soa_congr_df['soa'].isin(soa_filter)]"
   ]
  },
  {
   "cell_type": "code",
   "execution_count": 53,
   "id": "a1e4ec3c",
   "metadata": {
    "tags": []
   },
   "outputs": [
    {
     "data": {
      "text/html": [
       "<div>\n",
       "<style scoped>\n",
       "    .dataframe tbody tr th:only-of-type {\n",
       "        vertical-align: middle;\n",
       "    }\n",
       "\n",
       "    .dataframe tbody tr th {\n",
       "        vertical-align: top;\n",
       "    }\n",
       "\n",
       "    .dataframe thead th {\n",
       "        text-align: right;\n",
       "    }\n",
       "</style>\n",
       "<table border=\"1\" class=\"dataframe\">\n",
       "  <thead>\n",
       "    <tr style=\"text-align: right;\">\n",
       "      <th></th>\n",
       "      <th>soa</th>\n",
       "      <th>cue_lum_congruency</th>\n",
       "      <th>hit_from_eye</th>\n",
       "      <th>miss_from_eye</th>\n",
       "      <th>total</th>\n",
       "      <th>hit_rate</th>\n",
       "      <th>miss_rate</th>\n",
       "    </tr>\n",
       "  </thead>\n",
       "  <tbody>\n",
       "    <tr>\n",
       "      <th>0</th>\n",
       "      <td>20</td>\n",
       "      <td>congruent</td>\n",
       "      <td>944</td>\n",
       "      <td>181</td>\n",
       "      <td>1125</td>\n",
       "      <td>0.839111</td>\n",
       "      <td>0.160889</td>\n",
       "    </tr>\n",
       "    <tr>\n",
       "      <th>1</th>\n",
       "      <td>20</td>\n",
       "      <td>incongruent</td>\n",
       "      <td>914</td>\n",
       "      <td>226</td>\n",
       "      <td>1140</td>\n",
       "      <td>0.801754</td>\n",
       "      <td>0.198246</td>\n",
       "    </tr>\n",
       "    <tr>\n",
       "      <th>2</th>\n",
       "      <td>50</td>\n",
       "      <td>congruent</td>\n",
       "      <td>1842</td>\n",
       "      <td>342</td>\n",
       "      <td>2184</td>\n",
       "      <td>0.843407</td>\n",
       "      <td>0.156593</td>\n",
       "    </tr>\n",
       "    <tr>\n",
       "      <th>3</th>\n",
       "      <td>50</td>\n",
       "      <td>incongruent</td>\n",
       "      <td>2159</td>\n",
       "      <td>577</td>\n",
       "      <td>2736</td>\n",
       "      <td>0.789108</td>\n",
       "      <td>0.210892</td>\n",
       "    </tr>\n",
       "    <tr>\n",
       "      <th>4</th>\n",
       "      <td>100</td>\n",
       "      <td>congruent</td>\n",
       "      <td>1492</td>\n",
       "      <td>343</td>\n",
       "      <td>1835</td>\n",
       "      <td>0.813079</td>\n",
       "      <td>0.186921</td>\n",
       "    </tr>\n",
       "    <tr>\n",
       "      <th>5</th>\n",
       "      <td>100</td>\n",
       "      <td>incongruent</td>\n",
       "      <td>1825</td>\n",
       "      <td>632</td>\n",
       "      <td>2457</td>\n",
       "      <td>0.742776</td>\n",
       "      <td>0.257224</td>\n",
       "    </tr>\n",
       "    <tr>\n",
       "      <th>6</th>\n",
       "      <td>200</td>\n",
       "      <td>congruent</td>\n",
       "      <td>326</td>\n",
       "      <td>110</td>\n",
       "      <td>436</td>\n",
       "      <td>0.747706</td>\n",
       "      <td>0.252294</td>\n",
       "    </tr>\n",
       "    <tr>\n",
       "      <th>7</th>\n",
       "      <td>200</td>\n",
       "      <td>incongruent</td>\n",
       "      <td>307</td>\n",
       "      <td>162</td>\n",
       "      <td>469</td>\n",
       "      <td>0.654584</td>\n",
       "      <td>0.345416</td>\n",
       "    </tr>\n",
       "    <tr>\n",
       "      <th>8</th>\n",
       "      <td>300</td>\n",
       "      <td>congruent</td>\n",
       "      <td>707</td>\n",
       "      <td>382</td>\n",
       "      <td>1089</td>\n",
       "      <td>0.649219</td>\n",
       "      <td>0.350781</td>\n",
       "    </tr>\n",
       "    <tr>\n",
       "      <th>9</th>\n",
       "      <td>300</td>\n",
       "      <td>incongruent</td>\n",
       "      <td>1036</td>\n",
       "      <td>615</td>\n",
       "      <td>1651</td>\n",
       "      <td>0.627498</td>\n",
       "      <td>0.372502</td>\n",
       "    </tr>\n",
       "  </tbody>\n",
       "</table>\n",
       "</div>"
      ],
      "text/plain": [
       "   soa cue_lum_congruency  hit_from_eye  miss_from_eye  total  hit_rate  \\\n",
       "0   20          congruent           944            181   1125  0.839111   \n",
       "1   20        incongruent           914            226   1140  0.801754   \n",
       "2   50          congruent          1842            342   2184  0.843407   \n",
       "3   50        incongruent          2159            577   2736  0.789108   \n",
       "4  100          congruent          1492            343   1835  0.813079   \n",
       "5  100        incongruent          1825            632   2457  0.742776   \n",
       "6  200          congruent           326            110    436  0.747706   \n",
       "7  200        incongruent           307            162    469  0.654584   \n",
       "8  300          congruent           707            382   1089  0.649219   \n",
       "9  300        incongruent          1036            615   1651  0.627498   \n",
       "\n",
       "   miss_rate  \n",
       "0   0.160889  \n",
       "1   0.198246  \n",
       "2   0.156593  \n",
       "3   0.210892  \n",
       "4   0.186921  \n",
       "5   0.257224  \n",
       "6   0.252294  \n",
       "7   0.345416  \n",
       "8   0.350781  \n",
       "9   0.372502  "
      ]
     },
     "execution_count": 53,
     "metadata": {},
     "output_type": "execute_result"
    }
   ],
   "source": [
    "grouped_by_soa_congr_df"
   ]
  },
  {
   "cell_type": "code",
   "execution_count": 54,
   "id": "f72962aa",
   "metadata": {
    "tags": []
   },
   "outputs": [],
   "source": [
    "session_values = np.unique(dat_df_eh['filename'])\n",
    "soa_values = np.unique(dat_df_eh['soa'])\n",
    "final_df = pd.DataFrame({'soa': [], 'perf_congr': [], 'perf_incongr': [], 'RT_congr': [], 'RT_incongr':[], 'n_congr': [], 'n_incongr':[]})\n",
    "\n",
    "for day in session_values:\n",
    "    session = dat_df_eh[dat_df_eh['filename']==day]\n",
    "    \n",
    "    #filename_lst = []\n",
    "    #soas_lst = []\n",
    "    #congr_perf_lst = []\n",
    "    #incongr_perf_lst = []\n",
    "    #congr_n = []\n",
    "    #incongr_n = []\n",
    "    #congr_RT_lst = []\n",
    "    #incongr_RT_lst = []\n",
    "    for i in soa_values:\n",
    "\n",
    "        filename_lst = []\n",
    "        soas_lst = []\n",
    "        congr_perf_lst = []\n",
    "        incongr_perf_lst = []\n",
    "        congr_n = []\n",
    "        incongr_n = []\n",
    "        congr_RT_lst = []\n",
    "        incongr_RT_lst = []\n",
    "\n",
    "        subset = session[session['soa'] == i]\n",
    "\n",
    "        ## CONGRUENT\n",
    "        corr_congr = subset[(subset['hit_from_eye'] == True) & (subset['cue_lum_congruency'] == \"congruent\")]\n",
    "        incorr_congr = subset[(subset['hit_from_eye'] == False) & (subset['cue_lum_congruency'] == \"congruent\")]\n",
    "        congr_n_trials = len(corr_congr) + len(incorr_congr)\n",
    "\n",
    "        ## INCONGRUENT\n",
    "        corr_incongr = subset[(subset['hit_from_eye'] == True) & (subset['cue_lum_congruency'] == \"incongruent\")]\n",
    "        incorr_incongr = subset[(subset['hit_from_eye'] == False) & (subset['cue_lum_congruency'] == \"incongruent\")]\n",
    "        incongr_n_trials = len(corr_incongr) + len(incorr_incongr)\n",
    "\n",
    "        if congr_n_trials >= 1 and incongr_n_trials >= 1:\n",
    "            soas_lst.append(i)\n",
    "            congr_perf = len(corr_congr) / congr_n_trials\n",
    "            #print(congr_n_trials)\n",
    "            congr_n.append(congr_n_trials)\n",
    "            congr_perf_lst.append(congr_perf)\n",
    "            #print('Performance in congruent:', congr_perf, 'soa', i)\n",
    "            congr_RT =  np.mean(corr_congr['saccade_time_to_lum'])\n",
    "            congr_RT_lst.append(congr_RT)\n",
    "            incongr_perf = len(corr_incongr) / incongr_n_trials\n",
    "            incongr_n.append(incongr_n_trials)\n",
    "            incongr_perf_lst.append(incongr_perf)\n",
    "            #print('Performance in incongruent:', incongr_perf, 'soa', i)\n",
    "            incongr_RT = np.mean(corr_incongr['saccade_time_to_lum'])\n",
    "            incongr_RT_lst.append(incongr_RT)\n",
    "            \n",
    "        temp_df = pd.DataFrame({'soa': soas_lst, 'perf_congr': congr_perf_lst, 'perf_incongr': incongr_perf_lst, \n",
    "                'RT_congr': congr_RT_lst, 'RT_incongr': incongr_RT_lst, 'n_congr': congr_n, 'n_incongr':incongr_n})\n",
    "        final_df = pd.concat([final_df,temp_df])"
   ]
  },
  {
   "cell_type": "code",
   "execution_count": 55,
   "id": "6c1cd345",
   "metadata": {
    "tags": []
   },
   "outputs": [
    {
     "data": {
      "text/html": [
       "<div>\n",
       "<style scoped>\n",
       "    .dataframe tbody tr th:only-of-type {\n",
       "        vertical-align: middle;\n",
       "    }\n",
       "\n",
       "    .dataframe tbody tr th {\n",
       "        vertical-align: top;\n",
       "    }\n",
       "\n",
       "    .dataframe thead th {\n",
       "        text-align: right;\n",
       "    }\n",
       "</style>\n",
       "<table border=\"1\" class=\"dataframe\">\n",
       "  <thead>\n",
       "    <tr style=\"text-align: right;\">\n",
       "      <th></th>\n",
       "      <th>soa</th>\n",
       "      <th>perf_congr</th>\n",
       "      <th>perf_incongr</th>\n",
       "      <th>RT_congr</th>\n",
       "      <th>RT_incongr</th>\n",
       "      <th>n_congr</th>\n",
       "      <th>n_incongr</th>\n",
       "    </tr>\n",
       "  </thead>\n",
       "  <tbody>\n",
       "    <tr>\n",
       "      <th>0</th>\n",
       "      <td>20.0</td>\n",
       "      <td>1.000000</td>\n",
       "      <td>1.000000</td>\n",
       "      <td>874.500000</td>\n",
       "      <td>1036.500000</td>\n",
       "      <td>1.0</td>\n",
       "      <td>1.0</td>\n",
       "    </tr>\n",
       "    <tr>\n",
       "      <th>0</th>\n",
       "      <td>100.0</td>\n",
       "      <td>1.000000</td>\n",
       "      <td>0.666667</td>\n",
       "      <td>1033.000000</td>\n",
       "      <td>867.250000</td>\n",
       "      <td>4.0</td>\n",
       "      <td>3.0</td>\n",
       "    </tr>\n",
       "    <tr>\n",
       "      <th>0</th>\n",
       "      <td>200.0</td>\n",
       "      <td>1.000000</td>\n",
       "      <td>0.600000</td>\n",
       "      <td>1107.500000</td>\n",
       "      <td>988.833333</td>\n",
       "      <td>1.0</td>\n",
       "      <td>5.0</td>\n",
       "    </tr>\n",
       "    <tr>\n",
       "      <th>0</th>\n",
       "      <td>100.0</td>\n",
       "      <td>0.750000</td>\n",
       "      <td>1.000000</td>\n",
       "      <td>1330.166667</td>\n",
       "      <td>2578.000000</td>\n",
       "      <td>4.0</td>\n",
       "      <td>1.0</td>\n",
       "    </tr>\n",
       "    <tr>\n",
       "      <th>0</th>\n",
       "      <td>300.0</td>\n",
       "      <td>1.000000</td>\n",
       "      <td>1.000000</td>\n",
       "      <td>651.000000</td>\n",
       "      <td>1044.500000</td>\n",
       "      <td>2.0</td>\n",
       "      <td>1.0</td>\n",
       "    </tr>\n",
       "    <tr>\n",
       "      <th>...</th>\n",
       "      <td>...</td>\n",
       "      <td>...</td>\n",
       "      <td>...</td>\n",
       "      <td>...</td>\n",
       "      <td>...</td>\n",
       "      <td>...</td>\n",
       "      <td>...</td>\n",
       "    </tr>\n",
       "    <tr>\n",
       "      <th>0</th>\n",
       "      <td>50.0</td>\n",
       "      <td>0.888889</td>\n",
       "      <td>0.750000</td>\n",
       "      <td>410.979167</td>\n",
       "      <td>389.527778</td>\n",
       "      <td>27.0</td>\n",
       "      <td>24.0</td>\n",
       "    </tr>\n",
       "    <tr>\n",
       "      <th>0</th>\n",
       "      <td>100.0</td>\n",
       "      <td>0.903226</td>\n",
       "      <td>0.628571</td>\n",
       "      <td>382.357143</td>\n",
       "      <td>355.045455</td>\n",
       "      <td>31.0</td>\n",
       "      <td>35.0</td>\n",
       "    </tr>\n",
       "    <tr>\n",
       "      <th>0</th>\n",
       "      <td>20.0</td>\n",
       "      <td>0.857143</td>\n",
       "      <td>0.767442</td>\n",
       "      <td>485.152778</td>\n",
       "      <td>558.227273</td>\n",
       "      <td>42.0</td>\n",
       "      <td>43.0</td>\n",
       "    </tr>\n",
       "    <tr>\n",
       "      <th>0</th>\n",
       "      <td>50.0</td>\n",
       "      <td>0.863636</td>\n",
       "      <td>0.772727</td>\n",
       "      <td>460.013158</td>\n",
       "      <td>504.558824</td>\n",
       "      <td>44.0</td>\n",
       "      <td>44.0</td>\n",
       "    </tr>\n",
       "    <tr>\n",
       "      <th>0</th>\n",
       "      <td>100.0</td>\n",
       "      <td>0.771429</td>\n",
       "      <td>0.800000</td>\n",
       "      <td>378.277778</td>\n",
       "      <td>469.093750</td>\n",
       "      <td>35.0</td>\n",
       "      <td>40.0</td>\n",
       "    </tr>\n",
       "  </tbody>\n",
       "</table>\n",
       "<p>186 rows × 7 columns</p>\n",
       "</div>"
      ],
      "text/plain": [
       "      soa  perf_congr  perf_incongr     RT_congr   RT_incongr  n_congr  \\\n",
       "0    20.0    1.000000      1.000000   874.500000  1036.500000      1.0   \n",
       "0   100.0    1.000000      0.666667  1033.000000   867.250000      4.0   \n",
       "0   200.0    1.000000      0.600000  1107.500000   988.833333      1.0   \n",
       "0   100.0    0.750000      1.000000  1330.166667  2578.000000      4.0   \n",
       "0   300.0    1.000000      1.000000   651.000000  1044.500000      2.0   \n",
       "..    ...         ...           ...          ...          ...      ...   \n",
       "0    50.0    0.888889      0.750000   410.979167   389.527778     27.0   \n",
       "0   100.0    0.903226      0.628571   382.357143   355.045455     31.0   \n",
       "0    20.0    0.857143      0.767442   485.152778   558.227273     42.0   \n",
       "0    50.0    0.863636      0.772727   460.013158   504.558824     44.0   \n",
       "0   100.0    0.771429      0.800000   378.277778   469.093750     35.0   \n",
       "\n",
       "    n_incongr  \n",
       "0         1.0  \n",
       "0         3.0  \n",
       "0         5.0  \n",
       "0         1.0  \n",
       "0         1.0  \n",
       "..        ...  \n",
       "0        24.0  \n",
       "0        35.0  \n",
       "0        43.0  \n",
       "0        44.0  \n",
       "0        40.0  \n",
       "\n",
       "[186 rows x 7 columns]"
      ]
     },
     "execution_count": 55,
     "metadata": {},
     "output_type": "execute_result"
    }
   ],
   "source": [
    "final_df"
   ]
  },
  {
   "cell_type": "code",
   "execution_count": 56,
   "id": "91a55913-9695-4470-aed9-faec92a8cd66",
   "metadata": {
    "tags": []
   },
   "outputs": [],
   "source": [
    "final_df['soa'] = final_df['soa'].astype(int)"
   ]
  },
  {
   "cell_type": "code",
   "execution_count": 57,
   "id": "39f866f0",
   "metadata": {
    "tags": []
   },
   "outputs": [
    {
     "data": {
      "text/plain": [
       "soa\n",
       "20     1123.0\n",
       "50     2183.0\n",
       "100    1831.0\n",
       "200     434.0\n",
       "300    1089.0\n",
       "Name: n_congr, dtype: float64"
      ]
     },
     "execution_count": 57,
     "metadata": {},
     "output_type": "execute_result"
    }
   ],
   "source": [
    "final_df.groupby(['soa'])['n_congr'].sum()"
   ]
  },
  {
   "cell_type": "code",
   "execution_count": 58,
   "id": "5b148f82",
   "metadata": {
    "tags": []
   },
   "outputs": [
    {
     "data": {
      "text/plain": [
       "soa\n",
       "20     1138.0\n",
       "50     2187.0\n",
       "100    1868.0\n",
       "200     439.0\n",
       "300    1070.0\n",
       "Name: n_incongr, dtype: float64"
      ]
     },
     "execution_count": 58,
     "metadata": {},
     "output_type": "execute_result"
    }
   ],
   "source": [
    "final_df.groupby(['soa'])['n_incongr'].sum()"
   ]
  },
  {
   "cell_type": "code",
   "execution_count": 61,
   "id": "f8745c63-2fd6-49b6-aa72-d4c5f0727309",
   "metadata": {
    "tags": []
   },
   "outputs": [
    {
     "name": "stdout",
     "output_type": "stream",
     "text": [
      "8.985430301203759e-07\n"
     ]
    },
    {
     "data": {
      "text/plain": [
       "'****'"
      ]
     },
     "execution_count": 61,
     "metadata": {},
     "output_type": "execute_result"
    }
   ],
   "source": [
    "stat, pvalue = wilcoxon(final_df['perf_congr'], final_df['perf_incongr'], alternative='greater')\n",
    "print(pvalue)\n",
    "convert_pvalue_to_asterisks(pvalue)"
   ]
  },
  {
   "cell_type": "code",
   "execution_count": 42,
   "id": "a9bb2494-28f5-45c7-b4f2-6e5459ad38ba",
   "metadata": {
    "tags": []
   },
   "outputs": [
    {
     "data": {
      "text/plain": [
       "13362.0"
      ]
     },
     "execution_count": 42,
     "metadata": {},
     "output_type": "execute_result"
    }
   ],
   "source": [
    "final_df['n_congr'].sum() + final_df['n_incongr'].sum()"
   ]
  },
  {
   "cell_type": "code",
   "execution_count": 34,
   "id": "a5499783-cb56-4a59-9851-d0dcf9dc475b",
   "metadata": {
    "tags": []
   },
   "outputs": [
    {
     "name": "stdout",
     "output_type": "stream",
     "text": [
      "20 0.03903241056858889 *\n",
      "50 0.02736752007163841 *\n",
      "100 0.0008510028708695411 ***\n",
      "200 0.0078125 **\n",
      "300 0.017739974247762108 *\n"
     ]
    }
   ],
   "source": [
    "from scipy.stats import wilcoxon\n",
    "\n",
    "pvalues = []\n",
    "x_values = np.unique(final_df['soa'])\n",
    "for x in x_values:\n",
    "    stat, pvalue = wilcoxon(final_df[final_df['soa'] == x]['perf_congr'], final_df[final_df['soa'] == x]['perf_incongr'], alternative='greater')\n",
    "    print(x, pvalue, convert_pvalue_to_asterisks(pvalue))\n",
    "    pvalues.append(convert_pvalue_to_asterisks(pvalue))"
   ]
  },
  {
   "cell_type": "code",
   "execution_count": 120,
   "id": "f164a4f4",
   "metadata": {
    "tags": []
   },
   "outputs": [],
   "source": [
    "final_df = final_df.reset_index(drop=True)"
   ]
  },
  {
   "cell_type": "code",
   "execution_count": 121,
   "id": "7c9fdbe4",
   "metadata": {
    "tags": []
   },
   "outputs": [],
   "source": [
    "soa = []\n",
    "perf = []\n",
    "cat = []\n",
    "\n",
    "for i in range(len(final_df)):\n",
    "    soa.append(final_df['soa'][i])\n",
    "    perf.append(final_df['perf_congr'][i]*100)\n",
    "    cat.append('congruent')\n",
    "    soa.append(final_df['soa'][i])\n",
    "    perf.append(final_df['perf_incongr'][i]*100)\n",
    "    cat.append('incongruent')"
   ]
  },
  {
   "cell_type": "code",
   "execution_count": 122,
   "id": "7cd66221",
   "metadata": {
    "tags": []
   },
   "outputs": [],
   "source": [
    "for_violin_perf = pd.DataFrame({'Stimulus Onset Asynchrony (ms)': soa, 'Performance (%)': perf, 'Condition':cat})\n",
    "for_violin_perf.to_csv('eyehead_performance.csv')"
   ]
  },
  {
   "cell_type": "code",
   "execution_count": 68,
   "id": "f2673fa9",
   "metadata": {
    "tags": []
   },
   "outputs": [
    {
     "data": {
      "text/plain": [
       "<matplotlib.legend.Legend at 0x1a6aaf90a10>"
      ]
     },
     "execution_count": 68,
     "metadata": {},
     "output_type": "execute_result"
    },
    {
     "data": {
      "image/png": "[encoded data removed]",
      "text/plain": [
       "<Figure size 640x480 with 1 Axes>"
      ]
     },
     "metadata": {},
     "output_type": "display_data"
    }
   ],
   "source": [
    "sns.set_theme(style='darkgrid')\n",
    "sns.boxplot(data=for_violin_perf, x=\"Stimulus Onset Asynchrony (ms)\", y=\"Performance (%)\", notch=True, flierprops={\"marker\": \"x\"}, hue=\"Condition\", palette='Set2', width=0.5).set(title='Eye Head Condition')\n",
    "plt.ylim(10, 110)\n",
    "plt.legend(bbox_to_anchor=(1.05, 1), loc='upper left', borderaxespad=0)"
   ]
  },
  {
   "cell_type": "code",
   "execution_count": null,
   "id": "60d6afbc",
   "metadata": {},
   "outputs": [],
   "source": []
  }
 ],
 "metadata": {
  "kernelspec": {
   "display_name": "Python 3 (ipykernel)",
   "language": "python",
   "name": "python3"
  },
  "language_info": {
   "codemirror_mode": {
    "name": "ipython",
    "version": 3
   },
   "file_extension": ".py",
   "mimetype": "text/x-python",
   "name": "python",
   "nbconvert_exporter": "python",
   "pygments_lexer": "ipython3",
   "version": "3.11.4"
  }
 },
 "nbformat": 4,
 "nbformat_minor": 5
}
