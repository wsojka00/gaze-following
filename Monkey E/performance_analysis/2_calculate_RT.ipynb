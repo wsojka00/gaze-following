{
 "cells": [
  {
   "cell_type": "code",
   "execution_count": 110,
   "id": "5f0ed27a-c8b5-4259-8ee7-81191ff0fe64",
   "metadata": {
    "tags": []
   },
   "outputs": [],
   "source": [
    "import pandas as pd\n",
    "import numpy as np\n",
    "import seaborn as sns\n",
    "import matplotlib.pyplot as plt"
   ]
  },
  {
   "cell_type": "code",
   "execution_count": 146,
   "id": "aa0bcb4d-fc97-4cc0-8d89-d49568a2be23",
   "metadata": {
    "tags": []
   },
   "outputs": [],
   "source": [
    "def convert_pvalue_to_asterisks(pvalue):\n",
    "    if pvalue <= 0.0001:\n",
    "        return \"****\"\n",
    "    elif pvalue <= 0.001:\n",
    "        return \"***\"\n",
    "    elif pvalue <= 0.01:\n",
    "        return \"**\"\n",
    "    elif pvalue <= 0.05:\n",
    "        return \"*\"\n",
    "    return \"ns\""
   ]
  },
  {
   "cell_type": "code",
   "execution_count": 147,
   "id": "5021bb99-2d8c-4dea-b6c8-099ecf9057ca",
   "metadata": {
    "tags": []
   },
   "outputs": [],
   "source": [
    "dat_df_eo = pd.read_csv(\"dat_df_eo.csv\", sep=',')\n",
    "dat_df_eh = pd.read_csv(\"dat_df_eh.csv\", sep=',')"
   ]
  },
  {
   "cell_type": "code",
   "execution_count": 148,
   "id": "222ff4ea-92fe-423a-ac67-3ddef90a8950",
   "metadata": {
    "tags": []
   },
   "outputs": [],
   "source": [
    "dat_df_eo['soa'] = dat_df_eo['soa']*1000\n",
    "dat_df_eh['soa'] = dat_df_eh['soa']*1000"
   ]
  },
  {
   "cell_type": "code",
   "execution_count": 149,
   "id": "9b5d94f1-411f-4aa0-b299-4e41f4f46501",
   "metadata": {
    "tags": []
   },
   "outputs": [],
   "source": [
    "dat_df_eo['soa'] = dat_df_eo['soa'].astype(int)\n",
    "dat_df_eh['soa'] = dat_df_eh['soa'].astype(int)"
   ]
  },
  {
   "cell_type": "code",
   "execution_count": 150,
   "id": "427dbb51-992b-493a-9f1a-345b0052ad29",
   "metadata": {
    "tags": []
   },
   "outputs": [],
   "source": [
    "## Don't consider high cue amplitude\n",
    "\n",
    "dat_df_eo = dat_df_eo[(dat_df_eo['saccade_time_to_lum'] > 70) & (dat_df_eo['cue_amplitude'] == 'normal')]"
   ]
  },
  {
   "cell_type": "markdown",
   "id": "458ac1e9",
   "metadata": {},
   "source": [
    "### Fix SOA"
   ]
  },
  {
   "cell_type": "code",
   "execution_count": 151,
   "id": "ba3bc016",
   "metadata": {
    "tags": []
   },
   "outputs": [
    {
     "data": {
      "text/plain": [
       "array([100,  20,  50, 200, 300])"
      ]
     },
     "execution_count": 151,
     "metadata": {},
     "output_type": "execute_result"
    }
   ],
   "source": [
    "dat_df_eo['soa'].unique()"
   ]
  },
  {
   "cell_type": "code",
   "execution_count": 152,
   "id": "5f31aed8",
   "metadata": {
    "tags": []
   },
   "outputs": [],
   "source": [
    "main_soas = [20, 50, 100, 200, 300]\n",
    "\n",
    "dat_df_eh = dat_df_eh[dat_df_eh['soa'].isin(main_soas)]"
   ]
  },
  {
   "cell_type": "code",
   "execution_count": 153,
   "id": "2db66c77-622a-4325-94af-4424fff82f16",
   "metadata": {
    "tags": []
   },
   "outputs": [
    {
     "data": {
      "text/plain": [
       "array([100,  50, 200,  20, 300])"
      ]
     },
     "execution_count": 153,
     "metadata": {},
     "output_type": "execute_result"
    }
   ],
   "source": [
    "dat_df_eh['soa'].unique()"
   ]
  },
  {
   "cell_type": "markdown",
   "id": "f3454333-3583-4309-999d-ba87ab76cb0b",
   "metadata": {},
   "source": [
    "## Eye only grouped_by_soa_congr_df"
   ]
  },
  {
   "cell_type": "code",
   "execution_count": 154,
   "id": "83be0d5c-0794-4793-8045-56966793a0b7",
   "metadata": {
    "tags": []
   },
   "outputs": [],
   "source": [
    "session_values = np.unique(dat_df_eo['filename'])\n",
    "soa_values = np.unique(dat_df_eo['soa'])\n",
    "final_df = pd.DataFrame({'soa': [], 'perf_congr': [], 'perf_incongr': [], 'RT_congr': [], 'RT_incongr':[], 'n_congr': [], 'n_incongr':[]})\n",
    "\n",
    "for day in session_values:\n",
    "    session = dat_df_eo[dat_df_eo['filename']==day]\n",
    "    \n",
    "    #filename_lst = []\n",
    "    #soas_lst = []\n",
    "    #congr_perf_lst = []\n",
    "    #incongr_perf_lst = []\n",
    "    #congr_n = []\n",
    "    #incongr_n = []\n",
    "    #congr_RT_lst = []\n",
    "    #incongr_RT_lst = []\n",
    "    for i in soa_values:\n",
    "\n",
    "        filename_lst = []\n",
    "        soas_lst = []\n",
    "        congr_perf_lst = []\n",
    "        incongr_perf_lst = []\n",
    "        congr_n = []\n",
    "        incongr_n = []\n",
    "        congr_RT_lst = []\n",
    "        incongr_RT_lst = []\n",
    "\n",
    "        subset = session[session['soa'] == i]\n",
    "\n",
    "        ## CONGRUENT\n",
    "        corr_congr = subset[(subset['hit_from_eye'] == True) & (subset['cue_lum_congruency'] == \"congruent\")]\n",
    "        incorr_congr = subset[(subset['hit_from_eye'] == False) & (subset['cue_lum_congruency'] == \"congruent\")]\n",
    "        congr_n_trials = len(corr_congr) + len(incorr_congr)\n",
    "\n",
    "        ## INCONGRUENT\n",
    "        corr_incongr = subset[(subset['hit_from_eye'] == True) & (subset['cue_lum_congruency'] == \"incongruent\")]\n",
    "        incorr_incongr = subset[(subset['hit_from_eye'] == False) & (subset['cue_lum_congruency'] == \"incongruent\")]\n",
    "        incongr_n_trials = len(corr_incongr) + len(incorr_incongr)\n",
    "\n",
    "        if congr_n_trials >= 1 and incongr_n_trials >= 1:\n",
    "            soas_lst.append(i)\n",
    "            congr_perf = len(corr_congr) / congr_n_trials\n",
    "            #print(congr_n_trials)\n",
    "            congr_n.append(congr_n_trials)\n",
    "            congr_perf_lst.append(congr_perf)\n",
    "            #print('Performance in congruent:', congr_perf, 'soa', i)\n",
    "            congr_RT =  np.mean(corr_congr['saccade_time_to_lum'])\n",
    "            congr_RT_lst.append(congr_RT)\n",
    "            incongr_perf = len(corr_incongr) / incongr_n_trials\n",
    "            incongr_n.append(incongr_n_trials)\n",
    "            incongr_perf_lst.append(incongr_perf)\n",
    "            #print('Performance in incongruent:', incongr_perf, 'soa', i)\n",
    "            incongr_RT = np.mean(corr_incongr['saccade_time_to_lum'])\n",
    "            incongr_RT_lst.append(incongr_RT)\n",
    "            \n",
    "        temp_df = pd.DataFrame({'soa': soas_lst, 'perf_congr': congr_perf_lst, 'perf_incongr': incongr_perf_lst, \n",
    "                'RT_congr': congr_RT_lst, 'RT_incongr': incongr_RT_lst, 'n_congr': congr_n, 'n_incongr':incongr_n})\n",
    "        final_df = pd.concat([final_df,temp_df])"
   ]
  },
  {
   "cell_type": "code",
   "execution_count": 155,
   "id": "63553bd7",
   "metadata": {
    "tags": []
   },
   "outputs": [
    {
     "data": {
      "text/html": [
       "<div>\n",
       "<style scoped>\n",
       "    .dataframe tbody tr th:only-of-type {\n",
       "        vertical-align: middle;\n",
       "    }\n",
       "\n",
       "    .dataframe tbody tr th {\n",
       "        vertical-align: top;\n",
       "    }\n",
       "\n",
       "    .dataframe thead th {\n",
       "        text-align: right;\n",
       "    }\n",
       "</style>\n",
       "<table border=\"1\" class=\"dataframe\">\n",
       "  <thead>\n",
       "    <tr style=\"text-align: right;\">\n",
       "      <th></th>\n",
       "      <th>soa</th>\n",
       "      <th>perf_congr</th>\n",
       "      <th>perf_incongr</th>\n",
       "      <th>RT_congr</th>\n",
       "      <th>RT_incongr</th>\n",
       "      <th>n_congr</th>\n",
       "      <th>n_incongr</th>\n",
       "    </tr>\n",
       "  </thead>\n",
       "  <tbody>\n",
       "    <tr>\n",
       "      <th>0</th>\n",
       "      <td>20.0</td>\n",
       "      <td>0.875000</td>\n",
       "      <td>0.769231</td>\n",
       "      <td>435.547619</td>\n",
       "      <td>504.000000</td>\n",
       "      <td>24.0</td>\n",
       "      <td>13.0</td>\n",
       "    </tr>\n",
       "    <tr>\n",
       "      <th>0</th>\n",
       "      <td>50.0</td>\n",
       "      <td>0.842105</td>\n",
       "      <td>0.739130</td>\n",
       "      <td>466.437500</td>\n",
       "      <td>457.352941</td>\n",
       "      <td>19.0</td>\n",
       "      <td>23.0</td>\n",
       "    </tr>\n",
       "    <tr>\n",
       "      <th>0</th>\n",
       "      <td>100.0</td>\n",
       "      <td>0.809524</td>\n",
       "      <td>0.892857</td>\n",
       "      <td>372.852941</td>\n",
       "      <td>409.780000</td>\n",
       "      <td>21.0</td>\n",
       "      <td>28.0</td>\n",
       "    </tr>\n",
       "    <tr>\n",
       "      <th>0</th>\n",
       "      <td>20.0</td>\n",
       "      <td>0.909091</td>\n",
       "      <td>0.842105</td>\n",
       "      <td>528.650000</td>\n",
       "      <td>482.937500</td>\n",
       "      <td>11.0</td>\n",
       "      <td>19.0</td>\n",
       "    </tr>\n",
       "    <tr>\n",
       "      <th>0</th>\n",
       "      <td>50.0</td>\n",
       "      <td>0.928571</td>\n",
       "      <td>0.857143</td>\n",
       "      <td>439.192308</td>\n",
       "      <td>390.791667</td>\n",
       "      <td>14.0</td>\n",
       "      <td>14.0</td>\n",
       "    </tr>\n",
       "    <tr>\n",
       "      <th>...</th>\n",
       "      <td>...</td>\n",
       "      <td>...</td>\n",
       "      <td>...</td>\n",
       "      <td>...</td>\n",
       "      <td>...</td>\n",
       "      <td>...</td>\n",
       "      <td>...</td>\n",
       "    </tr>\n",
       "    <tr>\n",
       "      <th>0</th>\n",
       "      <td>300.0</td>\n",
       "      <td>0.764706</td>\n",
       "      <td>0.756757</td>\n",
       "      <td>459.038462</td>\n",
       "      <td>409.053571</td>\n",
       "      <td>34.0</td>\n",
       "      <td>37.0</td>\n",
       "    </tr>\n",
       "    <tr>\n",
       "      <th>0</th>\n",
       "      <td>300.0</td>\n",
       "      <td>0.763889</td>\n",
       "      <td>0.822581</td>\n",
       "      <td>423.890909</td>\n",
       "      <td>393.166667</td>\n",
       "      <td>72.0</td>\n",
       "      <td>62.0</td>\n",
       "    </tr>\n",
       "    <tr>\n",
       "      <th>0</th>\n",
       "      <td>300.0</td>\n",
       "      <td>0.678571</td>\n",
       "      <td>0.740741</td>\n",
       "      <td>446.736842</td>\n",
       "      <td>447.900000</td>\n",
       "      <td>28.0</td>\n",
       "      <td>27.0</td>\n",
       "    </tr>\n",
       "    <tr>\n",
       "      <th>0</th>\n",
       "      <td>300.0</td>\n",
       "      <td>0.616667</td>\n",
       "      <td>0.771429</td>\n",
       "      <td>416.081081</td>\n",
       "      <td>446.833333</td>\n",
       "      <td>60.0</td>\n",
       "      <td>70.0</td>\n",
       "    </tr>\n",
       "    <tr>\n",
       "      <th>0</th>\n",
       "      <td>300.0</td>\n",
       "      <td>0.562500</td>\n",
       "      <td>0.642857</td>\n",
       "      <td>651.222222</td>\n",
       "      <td>437.027778</td>\n",
       "      <td>16.0</td>\n",
       "      <td>28.0</td>\n",
       "    </tr>\n",
       "  </tbody>\n",
       "</table>\n",
       "<p>486 rows × 7 columns</p>\n",
       "</div>"
      ],
      "text/plain": [
       "      soa  perf_congr  perf_incongr    RT_congr  RT_incongr  n_congr  \\\n",
       "0    20.0    0.875000      0.769231  435.547619  504.000000     24.0   \n",
       "0    50.0    0.842105      0.739130  466.437500  457.352941     19.0   \n",
       "0   100.0    0.809524      0.892857  372.852941  409.780000     21.0   \n",
       "0    20.0    0.909091      0.842105  528.650000  482.937500     11.0   \n",
       "0    50.0    0.928571      0.857143  439.192308  390.791667     14.0   \n",
       "..    ...         ...           ...         ...         ...      ...   \n",
       "0   300.0    0.764706      0.756757  459.038462  409.053571     34.0   \n",
       "0   300.0    0.763889      0.822581  423.890909  393.166667     72.0   \n",
       "0   300.0    0.678571      0.740741  446.736842  447.900000     28.0   \n",
       "0   300.0    0.616667      0.771429  416.081081  446.833333     60.0   \n",
       "0   300.0    0.562500      0.642857  651.222222  437.027778     16.0   \n",
       "\n",
       "    n_incongr  \n",
       "0        13.0  \n",
       "0        23.0  \n",
       "0        28.0  \n",
       "0        19.0  \n",
       "0        14.0  \n",
       "..        ...  \n",
       "0        37.0  \n",
       "0        62.0  \n",
       "0        27.0  \n",
       "0        70.0  \n",
       "0        28.0  \n",
       "\n",
       "[486 rows x 7 columns]"
      ]
     },
     "execution_count": 155,
     "metadata": {},
     "output_type": "execute_result"
    }
   ],
   "source": [
    "final_df"
   ]
  },
  {
   "cell_type": "code",
   "execution_count": 156,
   "id": "71bef0e3-7b43-458d-aeba-5b4e56a0f527",
   "metadata": {
    "tags": []
   },
   "outputs": [
    {
     "name": "stdout",
     "output_type": "stream",
     "text": [
      "0.9086227332582053\n",
      "0.3093347785411311\n",
      "0.7979718739173969\n",
      "nan\n",
      "0.4212730301475788\n"
     ]
    }
   ],
   "source": [
    "from scipy.stats import mannwhitneyu\n",
    "\n",
    "pvalues = []\n",
    "x_values = np.unique(final_df['soa'])\n",
    "for x in x_values:\n",
    "    stat, pvalue = mannwhitneyu(final_df[final_df['soa'] == x]['RT_congr'], final_df[final_df['soa'] == x]['RT_incongr'], alternative='greater')\n",
    "    print(pvalue)\n",
    "    pvalues.append(convert_pvalue_to_asterisks(pvalue))"
   ]
  },
  {
   "cell_type": "code",
   "execution_count": 157,
   "id": "344def6f-83b5-45a4-9293-d76c486866df",
   "metadata": {
    "tags": []
   },
   "outputs": [
    {
     "data": {
      "text/plain": [
       "['ns', 'ns', 'ns', 'ns', 'ns']"
      ]
     },
     "execution_count": 157,
     "metadata": {},
     "output_type": "execute_result"
    }
   ],
   "source": [
    "pvalues"
   ]
  },
  {
   "cell_type": "code",
   "execution_count": 158,
   "id": "8ba32ea1-33bf-4790-bb55-df732f67fd37",
   "metadata": {
    "tags": []
   },
   "outputs": [],
   "source": [
    "final_df = final_df.reset_index(drop=True)"
   ]
  },
  {
   "cell_type": "code",
   "execution_count": 159,
   "id": "5b5f2b38-e16e-4beb-8d8a-d3f78198beee",
   "metadata": {
    "tags": []
   },
   "outputs": [],
   "source": [
    "final_df['soa'] = final_df['soa'].astype(int)"
   ]
  },
  {
   "cell_type": "code",
   "execution_count": 160,
   "id": "2b2b9d4d-5042-4b21-9549-027ff7ad9388",
   "metadata": {
    "tags": []
   },
   "outputs": [],
   "source": [
    "soa = []\n",
    "RTs = []\n",
    "cat = []\n",
    "\n",
    "for i in range(len(final_df)):\n",
    "    soa.append(final_df['soa'][i])\n",
    "    RTs.append(final_df['RT_congr'][i])\n",
    "    cat.append('congruent')\n",
    "    soa.append(final_df['soa'][i])\n",
    "    RTs.append(final_df['RT_incongr'][i])\n",
    "    cat.append('incongruent')"
   ]
  },
  {
   "cell_type": "code",
   "execution_count": 161,
   "id": "b4884acf-ba7d-41cc-a686-c1ba6e82da5f",
   "metadata": {
    "tags": []
   },
   "outputs": [],
   "source": [
    "for_violin_perf = pd.DataFrame({'Stimulus Onset Asynchrony (ms)': soa, 'Reaction Time (ms)': RTs, 'Condition':cat})"
   ]
  },
  {
   "cell_type": "code",
   "execution_count": 166,
   "id": "d85dc237-35f6-49a4-8424-7f30a3545c88",
   "metadata": {
    "tags": []
   },
   "outputs": [
    {
     "data": {
      "text/plain": [
       "<matplotlib.legend.Legend at 0x29581de2950>"
      ]
     },
     "execution_count": 166,
     "metadata": {},
     "output_type": "execute_result"
    },
    {
     "data": {
      "image/png": "[encoded data removed]",
      "text/plain": [
       "<Figure size 640x480 with 1 Axes>"
      ]
     },
     "metadata": {},
     "output_type": "display_data"
    }
   ],
   "source": [
    "sns.set_theme(style='darkgrid')\n",
    "sns.boxplot(data=for_violin_perf, x=\"Stimulus Onset Asynchrony (ms)\", y=\"Reaction Time (ms)\", notch=True, flierprops={\"marker\": \"x\"}, hue=\"Condition\", palette='Set2', width=0.5).set(title='Eye Only Condition')\n",
    "plt.ylim(100, 900)\n",
    "plt.legend(bbox_to_anchor=(1.05, 1), loc='upper left', borderaxespad=0)"
   ]
  },
  {
   "cell_type": "markdown",
   "id": "3e4c81d7-2559-42f9-b6ed-61be48c1c273",
   "metadata": {
    "tags": []
   },
   "source": [
    "### Eye&Head"
   ]
  },
  {
   "cell_type": "code",
   "execution_count": 167,
   "id": "f72962aa",
   "metadata": {
    "tags": []
   },
   "outputs": [],
   "source": [
    "session_values = np.unique(dat_df_eh['filename'])\n",
    "soa_values = np.unique(dat_df_eh['soa'])\n",
    "final_df = pd.DataFrame({'soa': [], 'perf_congr': [], 'perf_incongr': [], 'RT_congr': [], 'RT_incongr':[], 'n_congr': [], 'n_incongr':[]})\n",
    "\n",
    "for day in session_values:\n",
    "    session = dat_df_eh[dat_df_eh['filename']==day]\n",
    "    \n",
    "    #filename_lst = []\n",
    "    #soas_lst = []\n",
    "    #congr_perf_lst = []\n",
    "    #incongr_perf_lst = []\n",
    "    #congr_n = []\n",
    "    #incongr_n = []\n",
    "    #congr_RT_lst = []\n",
    "    #incongr_RT_lst = []\n",
    "    for i in soa_values:\n",
    "\n",
    "        filename_lst = []\n",
    "        soas_lst = []\n",
    "        congr_perf_lst = []\n",
    "        incongr_perf_lst = []\n",
    "        congr_n = []\n",
    "        incongr_n = []\n",
    "        congr_RT_lst = []\n",
    "        incongr_RT_lst = []\n",
    "\n",
    "        subset = session[session['soa'] == i]\n",
    "\n",
    "        ## CONGRUENT\n",
    "        corr_congr = subset[(subset['hit_from_eye'] == True) & (subset['cue_lum_congruency'] == \"congruent\")]\n",
    "        incorr_congr = subset[(subset['hit_from_eye'] == False) & (subset['cue_lum_congruency'] == \"congruent\")]\n",
    "        congr_n_trials = len(corr_congr) + len(incorr_congr)\n",
    "\n",
    "        ## INCONGRUENT\n",
    "        corr_incongr = subset[(subset['hit_from_eye'] == True) & (subset['cue_lum_congruency'] == \"incongruent\")]\n",
    "        incorr_incongr = subset[(subset['hit_from_eye'] == False) & (subset['cue_lum_congruency'] == \"incongruent\")]\n",
    "        incongr_n_trials = len(corr_incongr) + len(incorr_incongr)\n",
    "\n",
    "        if congr_n_trials >= 1 and incongr_n_trials >= 1:\n",
    "            soas_lst.append(i)\n",
    "            congr_perf = len(corr_congr) / congr_n_trials\n",
    "            #print(congr_n_trials)\n",
    "            congr_n.append(congr_n_trials)\n",
    "            congr_perf_lst.append(congr_perf)\n",
    "            #print('Performance in congruent:', congr_perf, 'soa', i)\n",
    "            congr_RT =  np.mean(corr_congr['saccade_time_to_lum'])\n",
    "            congr_RT_lst.append(congr_RT)\n",
    "            incongr_perf = len(corr_incongr) / incongr_n_trials\n",
    "            incongr_n.append(incongr_n_trials)\n",
    "            incongr_perf_lst.append(incongr_perf)\n",
    "            #print('Performance in incongruent:', incongr_perf, 'soa', i)\n",
    "            incongr_RT = np.mean(corr_incongr['saccade_time_to_lum'])\n",
    "            incongr_RT_lst.append(incongr_RT)\n",
    "            \n",
    "        temp_df = pd.DataFrame({'soa': soas_lst, 'perf_congr': congr_perf_lst, 'perf_incongr': incongr_perf_lst, \n",
    "                'RT_congr': congr_RT_lst, 'RT_incongr': incongr_RT_lst, 'n_congr': congr_n, 'n_incongr':incongr_n})\n",
    "        final_df = pd.concat([final_df,temp_df])"
   ]
  },
  {
   "cell_type": "code",
   "execution_count": 168,
   "id": "6c1cd345",
   "metadata": {
    "tags": []
   },
   "outputs": [
    {
     "data": {
      "text/html": [
       "<div>\n",
       "<style scoped>\n",
       "    .dataframe tbody tr th:only-of-type {\n",
       "        vertical-align: middle;\n",
       "    }\n",
       "\n",
       "    .dataframe tbody tr th {\n",
       "        vertical-align: top;\n",
       "    }\n",
       "\n",
       "    .dataframe thead th {\n",
       "        text-align: right;\n",
       "    }\n",
       "</style>\n",
       "<table border=\"1\" class=\"dataframe\">\n",
       "  <thead>\n",
       "    <tr style=\"text-align: right;\">\n",
       "      <th></th>\n",
       "      <th>soa</th>\n",
       "      <th>perf_congr</th>\n",
       "      <th>perf_incongr</th>\n",
       "      <th>RT_congr</th>\n",
       "      <th>RT_incongr</th>\n",
       "      <th>n_congr</th>\n",
       "      <th>n_incongr</th>\n",
       "    </tr>\n",
       "  </thead>\n",
       "  <tbody>\n",
       "    <tr>\n",
       "      <th>0</th>\n",
       "      <td>20.0</td>\n",
       "      <td>1.000000</td>\n",
       "      <td>1.000000</td>\n",
       "      <td>874.500000</td>\n",
       "      <td>1036.500000</td>\n",
       "      <td>1.0</td>\n",
       "      <td>1.0</td>\n",
       "    </tr>\n",
       "    <tr>\n",
       "      <th>0</th>\n",
       "      <td>100.0</td>\n",
       "      <td>1.000000</td>\n",
       "      <td>0.666667</td>\n",
       "      <td>1033.000000</td>\n",
       "      <td>867.250000</td>\n",
       "      <td>4.0</td>\n",
       "      <td>3.0</td>\n",
       "    </tr>\n",
       "    <tr>\n",
       "      <th>0</th>\n",
       "      <td>200.0</td>\n",
       "      <td>1.000000</td>\n",
       "      <td>0.600000</td>\n",
       "      <td>1107.500000</td>\n",
       "      <td>988.833333</td>\n",
       "      <td>1.0</td>\n",
       "      <td>5.0</td>\n",
       "    </tr>\n",
       "    <tr>\n",
       "      <th>0</th>\n",
       "      <td>100.0</td>\n",
       "      <td>0.750000</td>\n",
       "      <td>1.000000</td>\n",
       "      <td>1330.166667</td>\n",
       "      <td>2578.000000</td>\n",
       "      <td>4.0</td>\n",
       "      <td>1.0</td>\n",
       "    </tr>\n",
       "    <tr>\n",
       "      <th>0</th>\n",
       "      <td>300.0</td>\n",
       "      <td>1.000000</td>\n",
       "      <td>1.000000</td>\n",
       "      <td>651.000000</td>\n",
       "      <td>1044.500000</td>\n",
       "      <td>2.0</td>\n",
       "      <td>1.0</td>\n",
       "    </tr>\n",
       "    <tr>\n",
       "      <th>...</th>\n",
       "      <td>...</td>\n",
       "      <td>...</td>\n",
       "      <td>...</td>\n",
       "      <td>...</td>\n",
       "      <td>...</td>\n",
       "      <td>...</td>\n",
       "      <td>...</td>\n",
       "    </tr>\n",
       "    <tr>\n",
       "      <th>0</th>\n",
       "      <td>50.0</td>\n",
       "      <td>0.888889</td>\n",
       "      <td>0.750000</td>\n",
       "      <td>410.979167</td>\n",
       "      <td>389.527778</td>\n",
       "      <td>27.0</td>\n",
       "      <td>24.0</td>\n",
       "    </tr>\n",
       "    <tr>\n",
       "      <th>0</th>\n",
       "      <td>100.0</td>\n",
       "      <td>0.903226</td>\n",
       "      <td>0.628571</td>\n",
       "      <td>382.357143</td>\n",
       "      <td>355.045455</td>\n",
       "      <td>31.0</td>\n",
       "      <td>35.0</td>\n",
       "    </tr>\n",
       "    <tr>\n",
       "      <th>0</th>\n",
       "      <td>20.0</td>\n",
       "      <td>0.857143</td>\n",
       "      <td>0.767442</td>\n",
       "      <td>485.152778</td>\n",
       "      <td>558.227273</td>\n",
       "      <td>42.0</td>\n",
       "      <td>43.0</td>\n",
       "    </tr>\n",
       "    <tr>\n",
       "      <th>0</th>\n",
       "      <td>50.0</td>\n",
       "      <td>0.863636</td>\n",
       "      <td>0.772727</td>\n",
       "      <td>460.013158</td>\n",
       "      <td>504.558824</td>\n",
       "      <td>44.0</td>\n",
       "      <td>44.0</td>\n",
       "    </tr>\n",
       "    <tr>\n",
       "      <th>0</th>\n",
       "      <td>100.0</td>\n",
       "      <td>0.771429</td>\n",
       "      <td>0.800000</td>\n",
       "      <td>378.277778</td>\n",
       "      <td>469.093750</td>\n",
       "      <td>35.0</td>\n",
       "      <td>40.0</td>\n",
       "    </tr>\n",
       "  </tbody>\n",
       "</table>\n",
       "<p>186 rows × 7 columns</p>\n",
       "</div>"
      ],
      "text/plain": [
       "      soa  perf_congr  perf_incongr     RT_congr   RT_incongr  n_congr  \\\n",
       "0    20.0    1.000000      1.000000   874.500000  1036.500000      1.0   \n",
       "0   100.0    1.000000      0.666667  1033.000000   867.250000      4.0   \n",
       "0   200.0    1.000000      0.600000  1107.500000   988.833333      1.0   \n",
       "0   100.0    0.750000      1.000000  1330.166667  2578.000000      4.0   \n",
       "0   300.0    1.000000      1.000000   651.000000  1044.500000      2.0   \n",
       "..    ...         ...           ...          ...          ...      ...   \n",
       "0    50.0    0.888889      0.750000   410.979167   389.527778     27.0   \n",
       "0   100.0    0.903226      0.628571   382.357143   355.045455     31.0   \n",
       "0    20.0    0.857143      0.767442   485.152778   558.227273     42.0   \n",
       "0    50.0    0.863636      0.772727   460.013158   504.558824     44.0   \n",
       "0   100.0    0.771429      0.800000   378.277778   469.093750     35.0   \n",
       "\n",
       "    n_incongr  \n",
       "0         1.0  \n",
       "0         3.0  \n",
       "0         5.0  \n",
       "0         1.0  \n",
       "0         1.0  \n",
       "..        ...  \n",
       "0        24.0  \n",
       "0        35.0  \n",
       "0        43.0  \n",
       "0        44.0  \n",
       "0        40.0  \n",
       "\n",
       "[186 rows x 7 columns]"
      ]
     },
     "execution_count": 168,
     "metadata": {},
     "output_type": "execute_result"
    }
   ],
   "source": [
    "final_df"
   ]
  },
  {
   "cell_type": "code",
   "execution_count": 169,
   "id": "91a55913-9695-4470-aed9-faec92a8cd66",
   "metadata": {
    "tags": []
   },
   "outputs": [],
   "source": [
    "final_df['soa'] = final_df['soa'].astype(int)"
   ]
  },
  {
   "cell_type": "code",
   "execution_count": 170,
   "id": "995dfa57-d479-4100-ab02-ef864df1455a",
   "metadata": {
    "tags": []
   },
   "outputs": [
    {
     "data": {
      "text/plain": [
       "nan"
      ]
     },
     "execution_count": 170,
     "metadata": {},
     "output_type": "execute_result"
    }
   ],
   "source": [
    "stat, pval = wilcoxon(final_df['RT_congr'], final_df['RT_congr'], alternative='less', method='approx')\n",
    "pval"
   ]
  },
  {
   "cell_type": "code",
   "execution_count": 171,
   "id": "a5499783-cb56-4a59-9851-d0dcf9dc475b",
   "metadata": {
    "tags": []
   },
   "outputs": [
    {
     "name": "stdout",
     "output_type": "stream",
     "text": [
      "0.7671572193289209\n",
      "nan\n",
      "0.8525559082434395\n",
      "0.6007770007770006\n",
      "0.07443047415016377\n"
     ]
    }
   ],
   "source": [
    "from scipy.stats import mannwhitneyu\n",
    "\n",
    "pvalues = []\n",
    "x_values = np.unique(final_df['soa'])\n",
    "for x in x_values:\n",
    "    stat, pvalue = mannwhitneyu(final_df[final_df['soa'] == x]['RT_congr'], final_df[final_df['soa'] == x]['RT_incongr'], alternative='greater')\n",
    "    print(pvalue)\n",
    "    pvalues.append(convert_pvalue_to_asterisks(pvalue))"
   ]
  },
  {
   "cell_type": "code",
   "execution_count": 172,
   "id": "5b04d062",
   "metadata": {
    "tags": []
   },
   "outputs": [
    {
     "data": {
      "text/plain": [
       "['ns', 'ns', 'ns', 'ns', 'ns']"
      ]
     },
     "execution_count": 172,
     "metadata": {},
     "output_type": "execute_result"
    }
   ],
   "source": [
    "pvalues"
   ]
  },
  {
   "cell_type": "code",
   "execution_count": 173,
   "id": "f164a4f4",
   "metadata": {
    "tags": []
   },
   "outputs": [],
   "source": [
    "final_df = final_df.reset_index(drop=True)"
   ]
  },
  {
   "cell_type": "code",
   "execution_count": 174,
   "id": "7c9fdbe4",
   "metadata": {
    "tags": []
   },
   "outputs": [],
   "source": [
    "soa = []\n",
    "RTs = []\n",
    "cat = []\n",
    "\n",
    "for i in range(len(final_df)):\n",
    "    soa.append(final_df['soa'][i])\n",
    "    RTs.append(final_df['RT_congr'][i])\n",
    "    cat.append('congruent')\n",
    "    soa.append(final_df['soa'][i])\n",
    "    RTs.append(final_df['RT_incongr'][i])\n",
    "    cat.append('incongruent')"
   ]
  },
  {
   "cell_type": "code",
   "execution_count": 175,
   "id": "7cd66221",
   "metadata": {
    "tags": []
   },
   "outputs": [],
   "source": [
    "for_violin_perf = pd.DataFrame({'Stimulus Onset Asynchrony (ms)': soa, 'Reaction Time (ms)': RTs, 'Condition':cat})"
   ]
  },
  {
   "cell_type": "code",
   "execution_count": 176,
   "id": "f2673fa9",
   "metadata": {
    "tags": []
   },
   "outputs": [
    {
     "data": {
      "text/plain": [
       "<matplotlib.legend.Legend at 0x2958205c210>"
      ]
     },
     "execution_count": 176,
     "metadata": {},
     "output_type": "execute_result"
    },
    {
     "data": {
      "image/png": "[encoded data removed]",
      "text/plain": [
       "<Figure size 640x480 with 1 Axes>"
      ]
     },
     "metadata": {},
     "output_type": "display_data"
    }
   ],
   "source": [
    "sns.set_theme(style='darkgrid')\n",
    "sns.boxplot(data=for_violin_perf, x=\"Stimulus Onset Asynchrony (ms)\", y=\"Reaction Time (ms)\", notch=True, flierprops={\"marker\": \"x\"}, hue=\"Condition\", palette='Set2', width=0.5).set(title='Eye Head Condition')\n",
    "plt.ylim(100, 900)\n",
    "plt.legend(bbox_to_anchor=(1.05, 1), loc='upper left', borderaxespad=0)"
   ]
  },
  {
   "cell_type": "code",
   "execution_count": 109,
   "id": "ed07c8a6-8832-40db-98bf-ac42d967daa7",
   "metadata": {
    "tags": []
   },
   "outputs": [
    {
     "data": {
      "text/html": [
       "<div>\n",
       "<style scoped>\n",
       "    .dataframe tbody tr th:only-of-type {\n",
       "        vertical-align: middle;\n",
       "    }\n",
       "\n",
       "    .dataframe tbody tr th {\n",
       "        vertical-align: top;\n",
       "    }\n",
       "\n",
       "    .dataframe thead th {\n",
       "        text-align: right;\n",
       "    }\n",
       "</style>\n",
       "<table border=\"1\" class=\"dataframe\">\n",
       "  <thead>\n",
       "    <tr style=\"text-align: right;\">\n",
       "      <th></th>\n",
       "      <th>Stimulus Onset Asynchrony (ms)</th>\n",
       "      <th>Reaction Time (ms)</th>\n",
       "      <th>Condition</th>\n",
       "    </tr>\n",
       "  </thead>\n",
       "  <tbody>\n",
       "    <tr>\n",
       "      <th>0</th>\n",
       "      <td>20</td>\n",
       "      <td>874.500000</td>\n",
       "      <td>congruent</td>\n",
       "    </tr>\n",
       "    <tr>\n",
       "      <th>1</th>\n",
       "      <td>20</td>\n",
       "      <td>1036.500000</td>\n",
       "      <td>incongruent</td>\n",
       "    </tr>\n",
       "    <tr>\n",
       "      <th>2</th>\n",
       "      <td>100</td>\n",
       "      <td>1033.000000</td>\n",
       "      <td>congruent</td>\n",
       "    </tr>\n",
       "    <tr>\n",
       "      <th>3</th>\n",
       "      <td>100</td>\n",
       "      <td>867.250000</td>\n",
       "      <td>incongruent</td>\n",
       "    </tr>\n",
       "    <tr>\n",
       "      <th>4</th>\n",
       "      <td>200</td>\n",
       "      <td>1107.500000</td>\n",
       "      <td>congruent</td>\n",
       "    </tr>\n",
       "    <tr>\n",
       "      <th>...</th>\n",
       "      <td>...</td>\n",
       "      <td>...</td>\n",
       "      <td>...</td>\n",
       "    </tr>\n",
       "    <tr>\n",
       "      <th>367</th>\n",
       "      <td>20</td>\n",
       "      <td>558.227273</td>\n",
       "      <td>incongruent</td>\n",
       "    </tr>\n",
       "    <tr>\n",
       "      <th>368</th>\n",
       "      <td>50</td>\n",
       "      <td>460.013158</td>\n",
       "      <td>congruent</td>\n",
       "    </tr>\n",
       "    <tr>\n",
       "      <th>369</th>\n",
       "      <td>50</td>\n",
       "      <td>504.558824</td>\n",
       "      <td>incongruent</td>\n",
       "    </tr>\n",
       "    <tr>\n",
       "      <th>370</th>\n",
       "      <td>100</td>\n",
       "      <td>378.277778</td>\n",
       "      <td>congruent</td>\n",
       "    </tr>\n",
       "    <tr>\n",
       "      <th>371</th>\n",
       "      <td>100</td>\n",
       "      <td>469.093750</td>\n",
       "      <td>incongruent</td>\n",
       "    </tr>\n",
       "  </tbody>\n",
       "</table>\n",
       "<p>372 rows × 3 columns</p>\n",
       "</div>"
      ],
      "text/plain": [
       "     Stimulus Onset Asynchrony (ms)  Reaction Time (ms)    Condition\n",
       "0                                20          874.500000    congruent\n",
       "1                                20         1036.500000  incongruent\n",
       "2                               100         1033.000000    congruent\n",
       "3                               100          867.250000  incongruent\n",
       "4                               200         1107.500000    congruent\n",
       "..                              ...                 ...          ...\n",
       "367                              20          558.227273  incongruent\n",
       "368                              50          460.013158    congruent\n",
       "369                              50          504.558824  incongruent\n",
       "370                             100          378.277778    congruent\n",
       "371                             100          469.093750  incongruent\n",
       "\n",
       "[372 rows x 3 columns]"
      ]
     },
     "execution_count": 109,
     "metadata": {},
     "output_type": "execute_result"
    }
   ],
   "source": [
    "for_violin_perf"
   ]
  },
  {
   "cell_type": "code",
   "execution_count": null,
   "id": "4f41dd4b-0817-4ccb-a6b3-32af0db45595",
   "metadata": {},
   "outputs": [],
   "source": []
  }
 ],
 "metadata": {
  "kernelspec": {
   "display_name": "Python 3 (ipykernel)",
   "language": "python",
   "name": "python3"
  },
  "language_info": {
   "codemirror_mode": {
    "name": "ipython",
    "version": 3
   },
   "file_extension": ".py",
   "mimetype": "text/x-python",
   "name": "python",
   "nbconvert_exporter": "python",
   "pygments_lexer": "ipython3",
   "version": "3.11.4"
  }
 },
 "nbformat": 4,
 "nbformat_minor": 5
}
